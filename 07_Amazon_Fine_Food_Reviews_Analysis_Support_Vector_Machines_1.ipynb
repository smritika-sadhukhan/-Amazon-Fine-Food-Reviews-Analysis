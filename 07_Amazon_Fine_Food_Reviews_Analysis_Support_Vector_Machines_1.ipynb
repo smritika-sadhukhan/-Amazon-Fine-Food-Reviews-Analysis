{
 "cells": [
  {
   "cell_type": "markdown",
   "metadata": {},
   "source": [
    "# Amazon Fine Food Reviews Analysis\n",
    "\n",
    "\n",
    "Data Source: https://www.kaggle.com/snap/amazon-fine-food-reviews <br>\n",
    "\n",
    "EDA: https://nycdatascience.com/blog/student-works/amazon-fine-foods-visualization/\n",
    "\n",
    "\n",
    "The Amazon Fine Food Reviews dataset consists of reviews of fine foods from Amazon.<br>\n",
    "\n",
    "Number of reviews: 568,454<br>\n",
    "Number of users: 256,059<br>\n",
    "Number of products: 74,258<br>\n",
    "Timespan: Oct 1999 - Oct 2012<br>\n",
    "Number of Attributes/Columns in data: 10 \n",
    "\n",
    "Attribute Information:\n",
    "\n",
    "1. Id\n",
    "2. ProductId - unique identifier for the product\n",
    "3. UserId - unqiue identifier for the user\n",
    "4. ProfileName\n",
    "5. HelpfulnessNumerator - number of users who found the review helpful\n",
    "6. HelpfulnessDenominator - number of users who indicated whether they found the review helpful or not\n",
    "7. Score - rating between 1 and 5\n",
    "8. Time - timestamp for the review\n",
    "9. Summary - brief summary of the review\n",
    "10. Text - text of the review\n",
    "\n",
    "\n",
    "#### Objective:\n",
    "Given a review, determine whether the review is positive (rating of 4 or 5) or negative (rating of 1 or 2).\n",
    "\n",
    "<br>\n",
    "[Q] How to determine if a review is positive or negative?<br>\n",
    "<br> \n",
    "[Ans] We could use Score/Rating. A rating of 4 or 5 can be cosnidered as a positive review. A rating of 1 or 2 can be considered as negative one. A review of rating 3 is considered nuetral and such reviews are ignored from our analysis. This is an approximate and proxy way of determining the polarity (positivity/negativity) of a review.\n",
    "\n",
    "\n"
   ]
  },
  {
   "cell_type": "markdown",
   "metadata": {},
   "source": [
    "# [1]. Reading Data"
   ]
  },
  {
   "cell_type": "markdown",
   "metadata": {},
   "source": [
    "## [1.1] Loading the data\n",
    "\n",
    "The dataset is available in two forms\n",
    "1. .csv file\n",
    "2. SQLite Database\n",
    "\n",
    "In order to load the data, We have used the SQLITE dataset as it is easier to query the data and visualise the data efficiently.\n",
    "<br> \n",
    "\n",
    "Here as we only want to get the global sentiment of the recommendations (positive or negative), we will purposefully ignore all Scores equal to 3. If the score is above 3, then the recommendation wil be set to \"positive\". Otherwise, it will be set to \"negative\"."
   ]
  },
  {
   "cell_type": "code",
   "execution_count": 149,
   "metadata": {},
   "outputs": [],
   "source": [
    "%matplotlib inline\n",
    "import warnings\n",
    "warnings.filterwarnings(\"ignore\")\n",
    "\n",
    "\n",
    "import sqlite3\n",
    "import pandas as pd\n",
    "import numpy as np\n",
    "import nltk\n",
    "import string\n",
    "import matplotlib.pyplot as plt\n",
    "import seaborn as sns\n",
    "from sklearn.feature_extraction.text import TfidfTransformer\n",
    "from sklearn.feature_extraction.text import TfidfVectorizer\n",
    "\n",
    "from sklearn.feature_extraction.text import CountVectorizer\n",
    "from sklearn.metrics import confusion_matrix\n",
    "from sklearn import metrics\n",
    "from sklearn.metrics import roc_curve, auc\n",
    "from nltk.stem.porter import PorterStemmer\n",
    "\n",
    "import re\n",
    "# Tutorial about Python regular expressions: https://pymotw.com/2/re/\n",
    "import string\n",
    "from nltk.corpus import stopwords\n",
    "from nltk.stem import PorterStemmer\n",
    "from nltk.stem.wordnet import WordNetLemmatizer\n",
    "\n",
    "from gensim.models import Word2Vec\n",
    "from gensim.models import KeyedVectors\n",
    "import pickle\n",
    "\n",
    "from tqdm import tqdm\n",
    "import os"
   ]
  },
  {
   "cell_type": "code",
   "execution_count": 150,
   "metadata": {},
   "outputs": [
    {
     "name": "stdout",
     "output_type": "stream",
     "text": [
      "Number of data points in our data (500000, 10)\n"
     ]
    },
    {
     "data": {
      "text/html": [
       "<div>\n",
       "<style scoped>\n",
       "    .dataframe tbody tr th:only-of-type {\n",
       "        vertical-align: middle;\n",
       "    }\n",
       "\n",
       "    .dataframe tbody tr th {\n",
       "        vertical-align: top;\n",
       "    }\n",
       "\n",
       "    .dataframe thead th {\n",
       "        text-align: right;\n",
       "    }\n",
       "</style>\n",
       "<table border=\"1\" class=\"dataframe\">\n",
       "  <thead>\n",
       "    <tr style=\"text-align: right;\">\n",
       "      <th></th>\n",
       "      <th>Id</th>\n",
       "      <th>ProductId</th>\n",
       "      <th>UserId</th>\n",
       "      <th>ProfileName</th>\n",
       "      <th>HelpfulnessNumerator</th>\n",
       "      <th>HelpfulnessDenominator</th>\n",
       "      <th>Score</th>\n",
       "      <th>Time</th>\n",
       "      <th>Summary</th>\n",
       "      <th>Text</th>\n",
       "    </tr>\n",
       "  </thead>\n",
       "  <tbody>\n",
       "    <tr>\n",
       "      <th>0</th>\n",
       "      <td>1</td>\n",
       "      <td>B001E4KFG0</td>\n",
       "      <td>A3SGXH7AUHU8GW</td>\n",
       "      <td>delmartian</td>\n",
       "      <td>1</td>\n",
       "      <td>1</td>\n",
       "      <td>1</td>\n",
       "      <td>1303862400</td>\n",
       "      <td>Good Quality Dog Food</td>\n",
       "      <td>I have bought several of the Vitality canned d...</td>\n",
       "    </tr>\n",
       "    <tr>\n",
       "      <th>1</th>\n",
       "      <td>2</td>\n",
       "      <td>B00813GRG4</td>\n",
       "      <td>A1D87F6ZCVE5NK</td>\n",
       "      <td>dll pa</td>\n",
       "      <td>0</td>\n",
       "      <td>0</td>\n",
       "      <td>0</td>\n",
       "      <td>1346976000</td>\n",
       "      <td>Not as Advertised</td>\n",
       "      <td>Product arrived labeled as Jumbo Salted Peanut...</td>\n",
       "    </tr>\n",
       "    <tr>\n",
       "      <th>2</th>\n",
       "      <td>3</td>\n",
       "      <td>B000LQOCH0</td>\n",
       "      <td>ABXLMWJIXXAIN</td>\n",
       "      <td>Natalia Corres \"Natalia Corres\"</td>\n",
       "      <td>1</td>\n",
       "      <td>1</td>\n",
       "      <td>1</td>\n",
       "      <td>1219017600</td>\n",
       "      <td>\"Delight\" says it all</td>\n",
       "      <td>This is a confection that has been around a fe...</td>\n",
       "    </tr>\n",
       "  </tbody>\n",
       "</table>\n",
       "</div>"
      ],
      "text/plain": [
       "   Id   ProductId          UserId                      ProfileName  \\\n",
       "0   1  B001E4KFG0  A3SGXH7AUHU8GW                       delmartian   \n",
       "1   2  B00813GRG4  A1D87F6ZCVE5NK                           dll pa   \n",
       "2   3  B000LQOCH0   ABXLMWJIXXAIN  Natalia Corres \"Natalia Corres\"   \n",
       "\n",
       "   HelpfulnessNumerator  HelpfulnessDenominator  Score        Time  \\\n",
       "0                     1                       1      1  1303862400   \n",
       "1                     0                       0      0  1346976000   \n",
       "2                     1                       1      1  1219017600   \n",
       "\n",
       "                 Summary                                               Text  \n",
       "0  Good Quality Dog Food  I have bought several of the Vitality canned d...  \n",
       "1      Not as Advertised  Product arrived labeled as Jumbo Salted Peanut...  \n",
       "2  \"Delight\" says it all  This is a confection that has been around a fe...  "
      ]
     },
     "execution_count": 150,
     "metadata": {},
     "output_type": "execute_result"
    }
   ],
   "source": [
    "# using SQLite Table to read data.\n",
    "con = sqlite3.connect('database.sqlite') \n",
    "\n",
    "# filtering only positive and negative reviews i.e. \n",
    "# not taking into consideration those reviews with Score=3\n",
    "# SELECT * FROM Reviews WHERE Score != 3 LIMIT 500000, will give top 500000 data points\n",
    "# you can change the number to any other number based on your computing power\n",
    "\n",
    "filtered_data = pd.read_sql_query(\"\"\" SELECT * FROM Reviews WHERE Score != 3 LIMIT 500000\"\"\", con) \n",
    "# for tsne assignment you can take 5k data points\n",
    "\n",
    "#filtered_data = pd.read_sql_query(\"\"\" SELECT * FROM Reviews WHERE Score != 3 LIMIT 5000\"\"\", con) \n",
    "\n",
    "# Give reviews with Score>3 a positive rating(1), and reviews with a score<3 a negative rating(0).\n",
    "def partition(x):\n",
    "    if x < 3:\n",
    "        return 0\n",
    "    return 1\n",
    "\n",
    "#changing reviews with score less than 3 to be positive and vice-versa\n",
    "actualScore = filtered_data['Score']\n",
    "positiveNegative = actualScore.map(partition) \n",
    "filtered_data['Score'] = positiveNegative\n",
    "print(\"Number of data points in our data\", filtered_data.shape)\n",
    "filtered_data.head(3)"
   ]
  },
  {
   "cell_type": "code",
   "execution_count": 151,
   "metadata": {},
   "outputs": [],
   "source": [
    "display = pd.read_sql_query(\"\"\"\n",
    "SELECT UserId, ProductId, ProfileName, Time, Score, Text, COUNT(*)\n",
    "FROM Reviews\n",
    "GROUP BY UserId\n",
    "HAVING COUNT(*)>1\n",
    "\"\"\", con)"
   ]
  },
  {
   "cell_type": "code",
   "execution_count": 152,
   "metadata": {
    "scrolled": true
   },
   "outputs": [
    {
     "name": "stdout",
     "output_type": "stream",
     "text": [
      "(80668, 7)\n"
     ]
    },
    {
     "data": {
      "text/html": [
       "<div>\n",
       "<style scoped>\n",
       "    .dataframe tbody tr th:only-of-type {\n",
       "        vertical-align: middle;\n",
       "    }\n",
       "\n",
       "    .dataframe tbody tr th {\n",
       "        vertical-align: top;\n",
       "    }\n",
       "\n",
       "    .dataframe thead th {\n",
       "        text-align: right;\n",
       "    }\n",
       "</style>\n",
       "<table border=\"1\" class=\"dataframe\">\n",
       "  <thead>\n",
       "    <tr style=\"text-align: right;\">\n",
       "      <th></th>\n",
       "      <th>UserId</th>\n",
       "      <th>ProductId</th>\n",
       "      <th>ProfileName</th>\n",
       "      <th>Time</th>\n",
       "      <th>Score</th>\n",
       "      <th>Text</th>\n",
       "      <th>COUNT(*)</th>\n",
       "    </tr>\n",
       "  </thead>\n",
       "  <tbody>\n",
       "    <tr>\n",
       "      <th>0</th>\n",
       "      <td>#oc-R115TNMSPFT9I7</td>\n",
       "      <td>B007Y59HVM</td>\n",
       "      <td>Breyton</td>\n",
       "      <td>1331510400</td>\n",
       "      <td>2</td>\n",
       "      <td>Overall its just OK when considering the price...</td>\n",
       "      <td>2</td>\n",
       "    </tr>\n",
       "    <tr>\n",
       "      <th>1</th>\n",
       "      <td>#oc-R11D9D7SHXIJB9</td>\n",
       "      <td>B005HG9ET0</td>\n",
       "      <td>Louis E. Emory \"hoppy\"</td>\n",
       "      <td>1342396800</td>\n",
       "      <td>5</td>\n",
       "      <td>My wife has recurring extreme muscle spasms, u...</td>\n",
       "      <td>3</td>\n",
       "    </tr>\n",
       "    <tr>\n",
       "      <th>2</th>\n",
       "      <td>#oc-R11DNU2NBKQ23Z</td>\n",
       "      <td>B007Y59HVM</td>\n",
       "      <td>Kim Cieszykowski</td>\n",
       "      <td>1348531200</td>\n",
       "      <td>1</td>\n",
       "      <td>This coffee is horrible and unfortunately not ...</td>\n",
       "      <td>2</td>\n",
       "    </tr>\n",
       "    <tr>\n",
       "      <th>3</th>\n",
       "      <td>#oc-R11O5J5ZVQE25C</td>\n",
       "      <td>B005HG9ET0</td>\n",
       "      <td>Penguin Chick</td>\n",
       "      <td>1346889600</td>\n",
       "      <td>5</td>\n",
       "      <td>This will be the bottle that you grab from the...</td>\n",
       "      <td>3</td>\n",
       "    </tr>\n",
       "    <tr>\n",
       "      <th>4</th>\n",
       "      <td>#oc-R12KPBODL2B5ZD</td>\n",
       "      <td>B007OSBE1U</td>\n",
       "      <td>Christopher P. Presta</td>\n",
       "      <td>1348617600</td>\n",
       "      <td>1</td>\n",
       "      <td>I didnt like this coffee. Instead of telling y...</td>\n",
       "      <td>2</td>\n",
       "    </tr>\n",
       "  </tbody>\n",
       "</table>\n",
       "</div>"
      ],
      "text/plain": [
       "               UserId   ProductId             ProfileName        Time  Score  \\\n",
       "0  #oc-R115TNMSPFT9I7  B007Y59HVM                 Breyton  1331510400      2   \n",
       "1  #oc-R11D9D7SHXIJB9  B005HG9ET0  Louis E. Emory \"hoppy\"  1342396800      5   \n",
       "2  #oc-R11DNU2NBKQ23Z  B007Y59HVM        Kim Cieszykowski  1348531200      1   \n",
       "3  #oc-R11O5J5ZVQE25C  B005HG9ET0           Penguin Chick  1346889600      5   \n",
       "4  #oc-R12KPBODL2B5ZD  B007OSBE1U   Christopher P. Presta  1348617600      1   \n",
       "\n",
       "                                                Text  COUNT(*)  \n",
       "0  Overall its just OK when considering the price...         2  \n",
       "1  My wife has recurring extreme muscle spasms, u...         3  \n",
       "2  This coffee is horrible and unfortunately not ...         2  \n",
       "3  This will be the bottle that you grab from the...         3  \n",
       "4  I didnt like this coffee. Instead of telling y...         2  "
      ]
     },
     "execution_count": 152,
     "metadata": {},
     "output_type": "execute_result"
    }
   ],
   "source": [
    "print(display.shape)\n",
    "display.head()"
   ]
  },
  {
   "cell_type": "code",
   "execution_count": 153,
   "metadata": {},
   "outputs": [
    {
     "data": {
      "text/html": [
       "<div>\n",
       "<style scoped>\n",
       "    .dataframe tbody tr th:only-of-type {\n",
       "        vertical-align: middle;\n",
       "    }\n",
       "\n",
       "    .dataframe tbody tr th {\n",
       "        vertical-align: top;\n",
       "    }\n",
       "\n",
       "    .dataframe thead th {\n",
       "        text-align: right;\n",
       "    }\n",
       "</style>\n",
       "<table border=\"1\" class=\"dataframe\">\n",
       "  <thead>\n",
       "    <tr style=\"text-align: right;\">\n",
       "      <th></th>\n",
       "      <th>UserId</th>\n",
       "      <th>ProductId</th>\n",
       "      <th>ProfileName</th>\n",
       "      <th>Time</th>\n",
       "      <th>Score</th>\n",
       "      <th>Text</th>\n",
       "      <th>COUNT(*)</th>\n",
       "    </tr>\n",
       "  </thead>\n",
       "  <tbody>\n",
       "    <tr>\n",
       "      <th>80638</th>\n",
       "      <td>AZY10LLTJ71NX</td>\n",
       "      <td>B006P7E5ZI</td>\n",
       "      <td>undertheshrine \"undertheshrine\"</td>\n",
       "      <td>1334707200</td>\n",
       "      <td>5</td>\n",
       "      <td>I was recommended to try green tea extract to ...</td>\n",
       "      <td>5</td>\n",
       "    </tr>\n",
       "  </tbody>\n",
       "</table>\n",
       "</div>"
      ],
      "text/plain": [
       "              UserId   ProductId                      ProfileName        Time  \\\n",
       "80638  AZY10LLTJ71NX  B006P7E5ZI  undertheshrine \"undertheshrine\"  1334707200   \n",
       "\n",
       "       Score                                               Text  COUNT(*)  \n",
       "80638      5  I was recommended to try green tea extract to ...         5  "
      ]
     },
     "execution_count": 153,
     "metadata": {},
     "output_type": "execute_result"
    }
   ],
   "source": [
    "display[display['UserId']=='AZY10LLTJ71NX']"
   ]
  },
  {
   "cell_type": "code",
   "execution_count": 154,
   "metadata": {},
   "outputs": [
    {
     "data": {
      "text/plain": [
       "393063"
      ]
     },
     "execution_count": 154,
     "metadata": {},
     "output_type": "execute_result"
    }
   ],
   "source": [
    "display['COUNT(*)'].sum()"
   ]
  },
  {
   "cell_type": "markdown",
   "metadata": {},
   "source": [
    "#  [2] Exploratory Data Analysis"
   ]
  },
  {
   "cell_type": "markdown",
   "metadata": {},
   "source": [
    "## [2.1] Data Cleaning: Deduplication\n",
    "\n",
    "It is observed (as shown in the table below) that the reviews data had many duplicate entries. Hence it was necessary to remove duplicates in order to get unbiased results for the analysis of the data.  Following is an example:"
   ]
  },
  {
   "cell_type": "code",
   "execution_count": 155,
   "metadata": {
    "scrolled": false
   },
   "outputs": [
    {
     "data": {
      "text/html": [
       "<div>\n",
       "<style scoped>\n",
       "    .dataframe tbody tr th:only-of-type {\n",
       "        vertical-align: middle;\n",
       "    }\n",
       "\n",
       "    .dataframe tbody tr th {\n",
       "        vertical-align: top;\n",
       "    }\n",
       "\n",
       "    .dataframe thead th {\n",
       "        text-align: right;\n",
       "    }\n",
       "</style>\n",
       "<table border=\"1\" class=\"dataframe\">\n",
       "  <thead>\n",
       "    <tr style=\"text-align: right;\">\n",
       "      <th></th>\n",
       "      <th>Id</th>\n",
       "      <th>ProductId</th>\n",
       "      <th>UserId</th>\n",
       "      <th>ProfileName</th>\n",
       "      <th>HelpfulnessNumerator</th>\n",
       "      <th>HelpfulnessDenominator</th>\n",
       "      <th>Score</th>\n",
       "      <th>Time</th>\n",
       "      <th>Summary</th>\n",
       "      <th>Text</th>\n",
       "    </tr>\n",
       "  </thead>\n",
       "  <tbody>\n",
       "    <tr>\n",
       "      <th>0</th>\n",
       "      <td>78445</td>\n",
       "      <td>B000HDL1RQ</td>\n",
       "      <td>AR5J8UI46CURR</td>\n",
       "      <td>Geetha Krishnan</td>\n",
       "      <td>2</td>\n",
       "      <td>2</td>\n",
       "      <td>5</td>\n",
       "      <td>1199577600</td>\n",
       "      <td>LOACKER QUADRATINI VANILLA WAFERS</td>\n",
       "      <td>DELICIOUS WAFERS. I FIND THAT EUROPEAN WAFERS ...</td>\n",
       "    </tr>\n",
       "    <tr>\n",
       "      <th>1</th>\n",
       "      <td>138317</td>\n",
       "      <td>B000HDOPYC</td>\n",
       "      <td>AR5J8UI46CURR</td>\n",
       "      <td>Geetha Krishnan</td>\n",
       "      <td>2</td>\n",
       "      <td>2</td>\n",
       "      <td>5</td>\n",
       "      <td>1199577600</td>\n",
       "      <td>LOACKER QUADRATINI VANILLA WAFERS</td>\n",
       "      <td>DELICIOUS WAFERS. I FIND THAT EUROPEAN WAFERS ...</td>\n",
       "    </tr>\n",
       "    <tr>\n",
       "      <th>2</th>\n",
       "      <td>138277</td>\n",
       "      <td>B000HDOPYM</td>\n",
       "      <td>AR5J8UI46CURR</td>\n",
       "      <td>Geetha Krishnan</td>\n",
       "      <td>2</td>\n",
       "      <td>2</td>\n",
       "      <td>5</td>\n",
       "      <td>1199577600</td>\n",
       "      <td>LOACKER QUADRATINI VANILLA WAFERS</td>\n",
       "      <td>DELICIOUS WAFERS. I FIND THAT EUROPEAN WAFERS ...</td>\n",
       "    </tr>\n",
       "    <tr>\n",
       "      <th>3</th>\n",
       "      <td>73791</td>\n",
       "      <td>B000HDOPZG</td>\n",
       "      <td>AR5J8UI46CURR</td>\n",
       "      <td>Geetha Krishnan</td>\n",
       "      <td>2</td>\n",
       "      <td>2</td>\n",
       "      <td>5</td>\n",
       "      <td>1199577600</td>\n",
       "      <td>LOACKER QUADRATINI VANILLA WAFERS</td>\n",
       "      <td>DELICIOUS WAFERS. I FIND THAT EUROPEAN WAFERS ...</td>\n",
       "    </tr>\n",
       "    <tr>\n",
       "      <th>4</th>\n",
       "      <td>155049</td>\n",
       "      <td>B000PAQ75C</td>\n",
       "      <td>AR5J8UI46CURR</td>\n",
       "      <td>Geetha Krishnan</td>\n",
       "      <td>2</td>\n",
       "      <td>2</td>\n",
       "      <td>5</td>\n",
       "      <td>1199577600</td>\n",
       "      <td>LOACKER QUADRATINI VANILLA WAFERS</td>\n",
       "      <td>DELICIOUS WAFERS. I FIND THAT EUROPEAN WAFERS ...</td>\n",
       "    </tr>\n",
       "  </tbody>\n",
       "</table>\n",
       "</div>"
      ],
      "text/plain": [
       "       Id   ProductId         UserId      ProfileName  HelpfulnessNumerator  \\\n",
       "0   78445  B000HDL1RQ  AR5J8UI46CURR  Geetha Krishnan                     2   \n",
       "1  138317  B000HDOPYC  AR5J8UI46CURR  Geetha Krishnan                     2   \n",
       "2  138277  B000HDOPYM  AR5J8UI46CURR  Geetha Krishnan                     2   \n",
       "3   73791  B000HDOPZG  AR5J8UI46CURR  Geetha Krishnan                     2   \n",
       "4  155049  B000PAQ75C  AR5J8UI46CURR  Geetha Krishnan                     2   \n",
       "\n",
       "   HelpfulnessDenominator  Score        Time  \\\n",
       "0                       2      5  1199577600   \n",
       "1                       2      5  1199577600   \n",
       "2                       2      5  1199577600   \n",
       "3                       2      5  1199577600   \n",
       "4                       2      5  1199577600   \n",
       "\n",
       "                             Summary  \\\n",
       "0  LOACKER QUADRATINI VANILLA WAFERS   \n",
       "1  LOACKER QUADRATINI VANILLA WAFERS   \n",
       "2  LOACKER QUADRATINI VANILLA WAFERS   \n",
       "3  LOACKER QUADRATINI VANILLA WAFERS   \n",
       "4  LOACKER QUADRATINI VANILLA WAFERS   \n",
       "\n",
       "                                                Text  \n",
       "0  DELICIOUS WAFERS. I FIND THAT EUROPEAN WAFERS ...  \n",
       "1  DELICIOUS WAFERS. I FIND THAT EUROPEAN WAFERS ...  \n",
       "2  DELICIOUS WAFERS. I FIND THAT EUROPEAN WAFERS ...  \n",
       "3  DELICIOUS WAFERS. I FIND THAT EUROPEAN WAFERS ...  \n",
       "4  DELICIOUS WAFERS. I FIND THAT EUROPEAN WAFERS ...  "
      ]
     },
     "execution_count": 155,
     "metadata": {},
     "output_type": "execute_result"
    }
   ],
   "source": [
    "display= pd.read_sql_query(\"\"\"\n",
    "SELECT *\n",
    "FROM Reviews\n",
    "WHERE Score != 3 AND UserId=\"AR5J8UI46CURR\"\n",
    "ORDER BY ProductID\n",
    "\"\"\", con)\n",
    "display.head()"
   ]
  },
  {
   "cell_type": "markdown",
   "metadata": {},
   "source": [
    "As it can be seen above that same user has multiple reviews with same values for HelpfulnessNumerator, HelpfulnessDenominator, Score, Time, Summary and Text and on doing analysis it was found that <br>\n",
    "<br> \n",
    "ProductId=B000HDOPZG was Loacker Quadratini Vanilla Wafer Cookies, 8.82-Ounce Packages (Pack of 8)<br>\n",
    "<br> \n",
    "ProductId=B000HDL1RQ was Loacker Quadratini Lemon Wafer Cookies, 8.82-Ounce Packages (Pack of 8) and so on<br>\n",
    "\n",
    "It was inferred after analysis that reviews with same parameters other than ProductId belonged to the same product just having different flavour or quantity. Hence in order to reduce redundancy it was decided to eliminate the rows having same parameters.<br>\n",
    "\n",
    "The method used for the same was that we first sort the data according to ProductId and then just keep the first similar product review and delelte the others. for eg. in the above just the review for ProductId=B000HDL1RQ remains. This method ensures that there is only one representative for each product and deduplication without sorting would lead to possibility of different representatives still existing for the same product."
   ]
  },
  {
   "cell_type": "code",
   "execution_count": 364,
   "metadata": {},
   "outputs": [],
   "source": [
    "#Sorting data according to ProductId in ascending order\n",
    "sorted_data=filtered_data.sort_values('ProductId', axis=0, ascending=True, inplace=False, kind='quicksort', na_position='last')"
   ]
  },
  {
   "cell_type": "code",
   "execution_count": 365,
   "metadata": {},
   "outputs": [
    {
     "data": {
      "text/plain": [
       "(348262, 10)"
      ]
     },
     "execution_count": 365,
     "metadata": {},
     "output_type": "execute_result"
    }
   ],
   "source": [
    "#Deduplication of entries\n",
    "final=sorted_data.drop_duplicates(subset={\"UserId\",\"ProfileName\",\"Time\",\"Text\"}, keep='first', inplace=False)\n",
    "final.shape"
   ]
  },
  {
   "cell_type": "code",
   "execution_count": 366,
   "metadata": {},
   "outputs": [
    {
     "data": {
      "text/plain": [
       "69.6524"
      ]
     },
     "execution_count": 366,
     "metadata": {},
     "output_type": "execute_result"
    }
   ],
   "source": [
    "#Checking to see how much % of data still remains\n",
    "(final['Id'].size*1.0)/(filtered_data['Id'].size*1.0)*100"
   ]
  },
  {
   "cell_type": "markdown",
   "metadata": {},
   "source": [
    "<b>Observation:-</b> It was also seen that in two rows given below the value of HelpfulnessNumerator is greater than HelpfulnessDenominator which is not practically possible hence these two rows too are removed from calcualtions"
   ]
  },
  {
   "cell_type": "code",
   "execution_count": 367,
   "metadata": {},
   "outputs": [
    {
     "data": {
      "text/html": [
       "<div>\n",
       "<style scoped>\n",
       "    .dataframe tbody tr th:only-of-type {\n",
       "        vertical-align: middle;\n",
       "    }\n",
       "\n",
       "    .dataframe tbody tr th {\n",
       "        vertical-align: top;\n",
       "    }\n",
       "\n",
       "    .dataframe thead th {\n",
       "        text-align: right;\n",
       "    }\n",
       "</style>\n",
       "<table border=\"1\" class=\"dataframe\">\n",
       "  <thead>\n",
       "    <tr style=\"text-align: right;\">\n",
       "      <th></th>\n",
       "      <th>Id</th>\n",
       "      <th>ProductId</th>\n",
       "      <th>UserId</th>\n",
       "      <th>ProfileName</th>\n",
       "      <th>HelpfulnessNumerator</th>\n",
       "      <th>HelpfulnessDenominator</th>\n",
       "      <th>Score</th>\n",
       "      <th>Time</th>\n",
       "      <th>Summary</th>\n",
       "      <th>Text</th>\n",
       "    </tr>\n",
       "  </thead>\n",
       "  <tbody>\n",
       "    <tr>\n",
       "      <th>0</th>\n",
       "      <td>64422</td>\n",
       "      <td>B000MIDROQ</td>\n",
       "      <td>A161DK06JJMCYF</td>\n",
       "      <td>J. E. Stephens \"Jeanne\"</td>\n",
       "      <td>3</td>\n",
       "      <td>1</td>\n",
       "      <td>5</td>\n",
       "      <td>1224892800</td>\n",
       "      <td>Bought This for My Son at College</td>\n",
       "      <td>My son loves spaghetti so I didn't hesitate or...</td>\n",
       "    </tr>\n",
       "    <tr>\n",
       "      <th>1</th>\n",
       "      <td>44737</td>\n",
       "      <td>B001EQ55RW</td>\n",
       "      <td>A2V0I904FH7ABY</td>\n",
       "      <td>Ram</td>\n",
       "      <td>3</td>\n",
       "      <td>2</td>\n",
       "      <td>4</td>\n",
       "      <td>1212883200</td>\n",
       "      <td>Pure cocoa taste with crunchy almonds inside</td>\n",
       "      <td>It was almost a 'love at first bite' - the per...</td>\n",
       "    </tr>\n",
       "  </tbody>\n",
       "</table>\n",
       "</div>"
      ],
      "text/plain": [
       "      Id   ProductId          UserId              ProfileName  \\\n",
       "0  64422  B000MIDROQ  A161DK06JJMCYF  J. E. Stephens \"Jeanne\"   \n",
       "1  44737  B001EQ55RW  A2V0I904FH7ABY                      Ram   \n",
       "\n",
       "   HelpfulnessNumerator  HelpfulnessDenominator  Score        Time  \\\n",
       "0                     3                       1      5  1224892800   \n",
       "1                     3                       2      4  1212883200   \n",
       "\n",
       "                                        Summary  \\\n",
       "0             Bought This for My Son at College   \n",
       "1  Pure cocoa taste with crunchy almonds inside   \n",
       "\n",
       "                                                Text  \n",
       "0  My son loves spaghetti so I didn't hesitate or...  \n",
       "1  It was almost a 'love at first bite' - the per...  "
      ]
     },
     "execution_count": 367,
     "metadata": {},
     "output_type": "execute_result"
    }
   ],
   "source": [
    "display= pd.read_sql_query(\"\"\"\n",
    "SELECT *\n",
    "FROM Reviews\n",
    "WHERE Score != 3 AND Id=44737 OR Id=64422\n",
    "ORDER BY ProductID\n",
    "\"\"\", con)\n",
    "\n",
    "display.head()"
   ]
  },
  {
   "cell_type": "code",
   "execution_count": 368,
   "metadata": {},
   "outputs": [],
   "source": [
    "final=final[final.HelpfulnessNumerator<=final.HelpfulnessDenominator]"
   ]
  },
  {
   "cell_type": "code",
   "execution_count": 369,
   "metadata": {},
   "outputs": [
    {
     "name": "stdout",
     "output_type": "stream",
     "text": [
      "(348260, 10)\n"
     ]
    },
    {
     "data": {
      "text/plain": [
       "1    293516\n",
       "0     54744\n",
       "Name: Score, dtype: int64"
      ]
     },
     "execution_count": 369,
     "metadata": {},
     "output_type": "execute_result"
    }
   ],
   "source": [
    "#Before starting the next phase of preprocessing lets see the number of entries left\n",
    "print(final.shape)\n",
    "\n",
    "#How many positive and negative reviews are present in our dataset?\n",
    "final['Score'].value_counts()"
   ]
  },
  {
   "cell_type": "code",
   "execution_count": 370,
   "metadata": {},
   "outputs": [
    {
     "data": {
      "text/plain": [
       "1    293516\n",
       "0     54744\n",
       "Name: Score, dtype: int64"
      ]
     },
     "execution_count": 370,
     "metadata": {},
     "output_type": "execute_result"
    }
   ],
   "source": [
    "final['Score'].value_counts()"
   ]
  },
  {
   "cell_type": "code",
   "execution_count": 371,
   "metadata": {},
   "outputs": [],
   "source": [
    "pos_reviews=final[final['Score']== 1].sample(n=50000)\n",
    "neg_reviews=final[final['Score']== 0].sample(n=50000)\n",
    "a=(pos_reviews,neg_reviews)\n",
    "final=pd.concat(a)"
   ]
  },
  {
   "cell_type": "markdown",
   "metadata": {},
   "source": [
    "# FEATURE ENGINEERING"
   ]
  },
  {
   "cell_type": "code",
   "execution_count": 372,
   "metadata": {},
   "outputs": [
    {
     "data": {
      "text/plain": [
       "346041    True\n",
       "dtype: bool"
      ]
     },
     "execution_count": 372,
     "metadata": {},
     "output_type": "execute_result"
    }
   ],
   "source": [
    "#Concating both the summary and text inorder to improve the model and then using it to test the model\n",
    "\n",
    "#https://stackoverflow.com/questions/19377969/combine-two-columns-of-text-in-dataframe-in-pandas-python\n",
    "\n",
    "final['TEXT_SUMMARY']=final['Text'] +\" \"+ final[\"Summary\"]\n",
    "\n",
    "final=final.sort_values(by='Time')\n",
    "\n",
    "\n",
    "\n",
    "final['TEXT_SUMMARY'][:1]==(final['Text'][:1]+\" \"+final['Summary'][:1])\n"
   ]
  },
  {
   "cell_type": "markdown",
   "metadata": {},
   "source": [
    "#  [3] Preprocessing"
   ]
  },
  {
   "cell_type": "markdown",
   "metadata": {},
   "source": [
    "## [3.1].  Preprocessing Review Text\n",
    "\n",
    "Now that we have finished deduplication our data requires some preprocessing before we go on further with analysis and making the prediction model.\n",
    "\n",
    "Hence in the Preprocessing phase we do the following in the order below:-\n",
    "\n",
    "1. Begin by removing the html tags\n",
    "2. Remove any punctuations or limited set of special characters like , or . or # etc.\n",
    "3. Check if the word is made up of english letters and is not alpha-numeric\n",
    "4. Check to see if the length of the word is greater than 2 (as it was researched that there is no adjective in 2-letters)\n",
    "5. Convert the word to lowercase\n",
    "6. Remove Stopwords\n",
    "7. Finally Snowball Stemming the word (it was obsereved to be better than Porter Stemming)<br>\n",
    "\n",
    "After which we collect the words used to describe positive and negative reviews"
   ]
  },
  {
   "cell_type": "code",
   "execution_count": 373,
   "metadata": {},
   "outputs": [
    {
     "name": "stdout",
     "output_type": "stream",
     "text": [
      "I, myself always enjoyed this movie, it's very funny and entertaining, so I didn't hesitate to pick up the clamshell edition.  I guess it was a marketing plan to make the movie more for families or something, but they  have eliminated all strong profanity and elements that are usually edited  in the television version.  YOU HAVE BEEN WARNED.  If you want the uncut  version, AVOID THE CLAMSHELL EDITION! WARNING: CLAMSHELL EDITION IS EDITED TV VERSION\n"
     ]
    },
    {
     "name": "stderr",
     "output_type": "stream",
     "text": [
      "100%|█████████████████████████████████████████████████████████████████████████| 100000/100000 [01:42<00:00, 976.22it/s]\n"
     ]
    }
   ],
   "source": [
    "# printing some random reviews\n",
    "sent_0 =final['TEXT_SUMMARY'].values[0]\n",
    "\n",
    "\n",
    "sent_1000 =final['TEXT_SUMMARY'].values[1000]\n",
    "\n",
    "\n",
    "sent_1500 =final['TEXT_SUMMARY'].values[1500]\n",
    "\n",
    "\n",
    "sent_4900 =final['TEXT_SUMMARY'].values[4900]\n",
    "\n",
    "\n",
    "# remove urls from text python: https://stackoverflow.com/a/40823105/4084039\n",
    "sent_0 = re.sub(r\"http\\S+\", \"\", sent_0)\n",
    "sent_1000 = re.sub(r\"http\\S+\", \"\", sent_1000)\n",
    "sent_150 = re.sub(r\"http\\S+\", \"\", sent_1500)\n",
    "sent_4900 = re.sub(r\"http\\S+\", \"\", sent_4900)\n",
    "\n",
    "print(sent_0)\n",
    "\n",
    "# https://stackoverflow.com/questions/16206380/python-beautifulsoup-how-to-remove-all-tags-from-an-element\n",
    "from bs4 import BeautifulSoup\n",
    "\n",
    "soup = BeautifulSoup(sent_0, 'lxml')\n",
    "text = soup.get_text()\n",
    "\n",
    "\n",
    "soup = BeautifulSoup(sent_1000, 'lxml')\n",
    "text = soup.get_text()\n",
    "\n",
    "\n",
    "soup = BeautifulSoup(sent_1500, 'lxml')\n",
    "text = soup.get_text()\n",
    "\n",
    "\n",
    "soup = BeautifulSoup(sent_4900, 'lxml')\n",
    "text = soup.get_text()\n",
    "\n",
    "# https://stackoverflow.com/a/47091490/4084039\n",
    "import re\n",
    "\n",
    "def decontracted(phrase):\n",
    "    # specific\n",
    "    phrase = re.sub(r\"won't\", \"will not\", phrase)\n",
    "    phrase = re.sub(r\"can\\'t\", \"can not\", phrase)\n",
    "\n",
    "    # general\n",
    "    phrase = re.sub(r\"n\\'t\", \" not\", phrase)\n",
    "    phrase = re.sub(r\"\\'re\", \" are\", phrase)\n",
    "    phrase = re.sub(r\"\\'s\", \" is\", phrase)\n",
    "    phrase = re.sub(r\"\\'d\", \" would\", phrase)\n",
    "    phrase = re.sub(r\"\\'ll\", \" will\", phrase)\n",
    "    phrase = re.sub(r\"\\'t\", \" not\", phrase)\n",
    "    phrase = re.sub(r\"\\'ve\", \" have\", phrase)\n",
    "    phrase = re.sub(r\"\\'m\", \" am\", phrase)\n",
    "    return phrase\n",
    "\n",
    "sent_1500 = decontracted(sent_1500)\n",
    "\n",
    "\n",
    "#remove words with numbers python: https://stackoverflow.com/a/18082370/4084039\n",
    "sent_0 = re.sub(\"\\S*\\d\\S*\", \"\", sent_0).strip()\n",
    "\n",
    "\n",
    "#remove spacial character: https://stackoverflow.com/a/5843547/4084039\n",
    "sent_1500 = re.sub('[^A-Za-z0-9]+', ' ', sent_1500)\n",
    "\n",
    "\n",
    "# https://gist.github.com/sebleier/554280\n",
    "# we are removing the words from the stop words list: 'no', 'nor', 'not'\n",
    "# <br /><br /> ==> after the above steps, we are getting \"br br\"\n",
    "# we are including them into stop words list\n",
    "# instead of <br /> if we have <br/> these tags would have revmoved in the 1st step\n",
    "\n",
    "stopwords= set(['br', 'the', 'i', 'me', 'my', 'myself', 'we', 'our', 'ours', 'ourselves', 'you', \"you're\", \"you've\",\\\n",
    "            \"you'll\", \"you'd\", 'your', 'yours', 'yourself', 'yourselves', 'he', 'him', 'his', 'himself', \\\n",
    "            'she', \"she's\", 'her', 'hers', 'herself', 'it', \"it's\", 'its', 'itself', 'they', 'them', 'their',\\\n",
    "            'theirs', 'themselves', 'what', 'which', 'who', 'whom', 'this', 'that', \"that'll\", 'these', 'those', \\\n",
    "            'am', 'is', 'are', 'was', 'were', 'be', 'been', 'being', 'have', 'has', 'had', 'having', 'do', 'does', \\\n",
    "            'did', 'doing', 'a', 'an', 'the', 'and', 'but', 'if', 'or', 'because', 'as', 'until', 'while', 'of', \\\n",
    "            'at', 'by', 'for', 'with', 'about', 'against', 'between', 'into', 'through', 'during', 'before', 'after',\\\n",
    "            'above', 'below', 'to', 'from', 'up', 'down', 'in', 'out', 'on', 'off', 'over', 'under', 'again', 'further',\\\n",
    "            'then', 'once', 'here', 'there', 'when', 'where', 'why', 'how', 'all', 'any', 'both', 'each', 'few', 'more',\\\n",
    "            'most', 'other', 'some', 'such', 'only', 'own', 'same', 'so', 'than', 'too', 'very', \\\n",
    "            's', 't', 'can', 'will', 'just', 'don', \"don't\", 'should', \"should've\", 'now', 'd', 'll', 'm', 'o', 're', \\\n",
    "            've', 'y', 'ain', 'aren', \"aren't\", 'couldn', \"couldn't\", 'didn', \"didn't\", 'doesn', \"doesn't\", 'hadn',\\\n",
    "            \"hadn't\", 'hasn', \"hasn't\", 'haven', \"haven't\", 'isn', \"isn't\", 'ma', 'mightn', \"mightn't\", 'mustn',\\\n",
    "            \"mustn't\", 'needn', \"needn't\", 'shan', \"shan't\", 'shouldn', \"shouldn't\", 'wasn', \"wasn't\", 'weren', \"weren't\", \\\n",
    "            'won', \"won't\", 'wouldn', \"wouldn't\"])\n",
    "\n",
    "# Combining all the above stundents \n",
    "from tqdm import tqdm\n",
    "preprocessed_reviews = []\n",
    "# tqdm is for printing the status bar\n",
    "for sentance in tqdm(final['Text'].values):\n",
    "    sentance = re.sub(r\"http\\S+\", \"\", sentance)\n",
    "    sentance = BeautifulSoup(sentance, 'lxml').get_text()\n",
    "    sentance = decontracted(sentance)\n",
    "    sentance = re.sub(\"\\S*\\d\\S*\", \"\", sentance).strip()\n",
    "    sentance = re.sub('[^A-Za-z]+', ' ', sentance)\n",
    "    # https://gist.github.com/sebleier/554280\n",
    "    sentance = ' '.join(e.lower() for e in sentance.split() if e.lower() not in stopwords)\n",
    "    preprocessed_reviews.append(sentance.strip())"
   ]
  },
  {
   "cell_type": "code",
   "execution_count": 374,
   "metadata": {},
   "outputs": [
    {
     "data": {
      "text/plain": [
       "'redeeming qualities not needing refrigeration cooking cook minutes great quick meal side dish butter tomato sauce gnocchi not greatest like starchy dumplings heavy dough no potato texture taste'"
      ]
     },
     "execution_count": 374,
     "metadata": {},
     "output_type": "execute_result"
    }
   ],
   "source": [
    "preprocessed_reviews[1500]"
   ]
  },
  {
   "cell_type": "code",
   "execution_count": 375,
   "metadata": {},
   "outputs": [],
   "source": [
    "import pickle\n",
    "with open(\"final['Score'].pkl\",'wb') as f:\n",
    "    pickle.dump(final['Score'],f)\n",
    "\n",
    "with open(\"preprocessed_reviews.pkl\",'wb') as f:\n",
    "    pickle.dump(preprocessed_reviews,f)\n"
   ]
  },
  {
   "cell_type": "markdown",
   "metadata": {},
   "source": [
    "# [4] Featurization"
   ]
  },
  {
   "cell_type": "code",
   "execution_count": 376,
   "metadata": {},
   "outputs": [
    {
     "data": {
      "text/plain": [
       "100000"
      ]
     },
     "execution_count": 376,
     "metadata": {},
     "output_type": "execute_result"
    }
   ],
   "source": [
    "len(preprocessed_reviews)"
   ]
  },
  {
   "cell_type": "code",
   "execution_count": 377,
   "metadata": {},
   "outputs": [
    {
     "data": {
      "text/plain": [
       "100000"
      ]
     },
     "execution_count": 377,
     "metadata": {},
     "output_type": "execute_result"
    }
   ],
   "source": [
    "len(final['Score'])"
   ]
  },
  {
   "cell_type": "code",
   "execution_count": 529,
   "metadata": {},
   "outputs": [],
   "source": [
    "# SPLITTING THE DATA INTO TEST TRAIN AND CV\n",
    "\n",
    "y_train= final['Score'][:10000]\n",
    "y_cv=    final['Score'][10000:15000]\n",
    "y_test=  final['Score'][15000:20000]\n",
    "\n",
    "x_train= preprocessed_reviews[:10000]\n",
    "x_cv=    preprocessed_reviews[10000:15000]\n",
    "x_test=  preprocessed_reviews[15000:20000]\n",
    "\n"
   ]
  },
  {
   "cell_type": "markdown",
   "metadata": {},
   "source": [
    "## [4.1] BAG OF WORDS"
   ]
  },
  {
   "cell_type": "code",
   "execution_count": 530,
   "metadata": {},
   "outputs": [
    {
     "name": "stdout",
     "output_type": "stream",
     "text": [
      "VECTOR OF THE TEXT AND SUMMARY\n",
      "-------------------------------------------\n",
      "the type of count vectorizer  <class 'scipy.sparse.csr.csr_matrix'>\n",
      "the shape of out text BOW vectorizer  (10000, 500)\n",
      "the number of unique words  500\n",
      "********************************************\n",
      "the type of count vectorizer  <class 'scipy.sparse.csr.csr_matrix'>\n",
      "the shape of out text BOW vectorizer  (5000, 500)\n",
      "the number of unique words  500\n",
      "the type of count vectorizer  <class 'scipy.sparse.csr.csr_matrix'>\n",
      "the shape of out text BOW vectorizer  (5000, 500)\n",
      "the number of unique words  500\n"
     ]
    }
   ],
   "source": [
    "print(\"VECTOR OF THE TEXT AND SUMMARY\")\n",
    "print(\"-------------------------------------------\")\n",
    "#train_BoW\n",
    "\n",
    "count_vect = CountVectorizer(min_df=10, max_features=500) #in scikit-learn\n",
    "train_bow  = count_vect.fit_transform(x_train )\n",
    "print(\"the type of count vectorizer \",type(train_bow ))\n",
    "print(\"the shape of out text BOW vectorizer \",train_bow .get_shape())\n",
    "print(\"the number of unique words \", train_bow .get_shape()[1])\n",
    "print(\"********************************************\")\n",
    "#cv_BoW\n",
    "cv_bow  = count_vect.transform(x_cv )\n",
    "print(\"the type of count vectorizer \",type(cv_bow ))\n",
    "print(\"the shape of out text BOW vectorizer \",cv_bow .get_shape())\n",
    "print(\"the number of unique words \", cv_bow .get_shape()[1])\n",
    "#cv_BoW\n",
    "#cv_BoW\n",
    "test_bow  = count_vect.transform(x_test )\n",
    "print(\"the type of count vectorizer \",type(test_bow ))\n",
    "print(\"the shape of out text BOW vectorizer \",test_bow .get_shape())\n",
    "print(\"the number of unique words \", test_bow .get_shape()[1])\n"
   ]
  },
  {
   "cell_type": "markdown",
   "metadata": {},
   "source": [
    "\n",
    "\n",
    "## [4.2] Bi-Grams and n-Grams."
   ]
  },
  {
   "cell_type": "code",
   "execution_count": 532,
   "metadata": {},
   "outputs": [
    {
     "name": "stdout",
     "output_type": "stream",
     "text": [
      "the type of count vectorizer  <class 'scipy.sparse.csr.csr_matrix'>\n",
      "the shape of out text BOW vectorizer  (100000, 500)\n",
      "the number of unique words including both unigrams and bigrams  500\n"
     ]
    }
   ],
   "source": [
    "#bi-gram, tri-gram and n-gram\n",
    "\n",
    "#removing stop words like \"not\" should be avoided before building n-grams\n",
    "# count_vect = CountVectorizer(ngram_range=(1,2))\n",
    "# please do read the CountVectorizer documentation http://scikit-learn.org/stable/modules/generated/sklearn.feature_extraction.text.CountVectorizer.html\n",
    "\n",
    "# you can choose these numebrs min_df=10, max_features=5000, of your choice\n",
    "count_vect = CountVectorizer(ngram_range=(1,2), min_df=10, max_features=500)\n",
    "final_bigram_counts = count_vect.fit_transform(preprocessed_reviews)\n",
    "print(\"the type of count vectorizer \",type(final_bigram_counts))\n",
    "print(\"the shape of out text BOW vectorizer \",final_bigram_counts.get_shape())\n",
    "print(\"the number of unique words including both unigrams and bigrams \", final_bigram_counts.get_shape()[1])"
   ]
  },
  {
   "cell_type": "markdown",
   "metadata": {},
   "source": [
    "## [4.3] TF-IDF"
   ]
  },
  {
   "cell_type": "code",
   "execution_count": 533,
   "metadata": {},
   "outputs": [
    {
     "name": "stdout",
     "output_type": "stream",
     "text": [
      "VECTOR OF TEXT AND SUMMARY\n",
      "                                  \n",
      "the type of count vectorizer  <class 'scipy.sparse.csr.csr_matrix'>\n",
      "the shape of out text TFIDF vectorizer  (10000, 500)\n",
      "the number of unique words including both unigrams and bigrams  500\n",
      "the type of count vectorizer  <class 'scipy.sparse.csr.csr_matrix'>\n",
      "the shape of out text TFIDF vectorizer  (5000, 500)\n",
      "the number of unique words including both unigrams and bigrams  500\n",
      "the type of count vectorizer  <class 'scipy.sparse.csr.csr_matrix'>\n",
      "the shape of out text TFIDF vectorizer  (5000, 500)\n",
      "the number of unique words including both unigrams and bigrams  500\n"
     ]
    }
   ],
   "source": [
    "print(\"VECTOR OF TEXT AND SUMMARY\")\n",
    "print(\"                                  \")\n",
    "#tfidf_train\n",
    "tf_idf_vect = TfidfVectorizer(ngram_range=(1,2),min_df=10, max_features=500)\n",
    "train_tf_idf = tf_idf_vect.fit_transform(x_train)\n",
    "print(\"the type of count vectorizer \",type(train_tf_idf))\n",
    "print(\"the shape of out text TFIDF vectorizer \",train_tf_idf.get_shape())\n",
    "print(\"the number of unique words including both unigrams and bigrams \", train_tf_idf.get_shape()[1])\n",
    "# tfidf_test\n",
    "test_tf_idf = tf_idf_vect.transform(x_test)\n",
    "print(\"the type of count vectorizer \",type(test_tf_idf))\n",
    "print(\"the shape of out text TFIDF vectorizer \",test_tf_idf.get_shape())\n",
    "print(\"the number of unique words including both unigrams and bigrams \", test_tf_idf.get_shape()[1])\n",
    "\n",
    "# tdidf_cv\n",
    "cv_tf_idf = tf_idf_vect.transform(x_cv)\n",
    "print(\"the type of count vectorizer \",type(cv_tf_idf))\n",
    "print(\"the shape of out text TFIDF vectorizer \",cv_tf_idf.get_shape())\n",
    "print(\"the number of unique words including both unigrams and bigrams \", cv_tf_idf.get_shape()[1])"
   ]
  },
  {
   "cell_type": "markdown",
   "metadata": {},
   "source": [
    "## [4.3] AVG Word2Vec"
   ]
  },
  {
   "cell_type": "code",
   "execution_count": null,
   "metadata": {},
   "outputs": [],
   "source": [
    "# Train your own Word2Vec model using your own text corpus\n",
    "i=0\n",
    "list_of_sentance=[]\n",
    "for sentance in x_train:\n",
    "    list_of_sentance.append(sentance.split())\n",
    "\n",
    "w2v_model=Word2Vec(list_of_sentance,min_count=5,size=50, workers=4)\n",
    "    \n",
    "\n",
    "list=[]\n",
    "w2v_words_dict = (w2v_model.wv.vocab)\n",
    "w2v_words=w2v_words_dict.keys()\n",
    "list=[]\n",
    "print(\"number of words that occured minimum 5 times \",len(w2v_words))\n",
    "for i in w2v_words:\n",
    "    list.append(i)\n",
    "print(\"sample words \", list[0:50])\n",
    "\n",
    "\n",
    "# average Word2Vec\n",
    "# compute average word2vec for each review.\n",
    "sent_vectors_train= []; # the avg-w2v for each sentence/review is stored in this list\n",
    "for sent in tqdm(list_of_sentance): # for each review/sentence\n",
    "    sent_vec = np.zeros(50) # as word vectors are of zero length 50, you might need to change this to 300 if you use google's w2v\n",
    "    cnt_words =0; # num of words with a valid vector in the sentence/review\n",
    "    for word in sent: # for each word in a review/sentence\n",
    "        if word in w2v_words:\n",
    "            vec = w2v_model.wv[word]\n",
    "            sent_vec += vec\n",
    "            cnt_words += 1\n",
    "    if cnt_words != 0:\n",
    "        sent_vec /= cnt_words\n",
    "    sent_vectors_train.append(sent_vec)\n",
    "print(len(sent_vectors_train))\n",
    "print(len(sent_vectors_train[0]))\n",
    "\n",
    "## [4.4] Word2Vec\n",
    "\n",
    "# Train your own Word2Vec model using your own text corpus\n",
    "i=0\n",
    "list_of_sentance=[]\n",
    "for sentance in x_cv:\n",
    "    list_of_sentance.append(sentance.split())\n",
    "\n",
    "list=[]\n",
    "w2v_words_dict = (w2v_model.wv.vocab)\n",
    "w2v_words=w2v_words_dict.keys()\n",
    "list=[]\n",
    "print(\"number of words that occured minimum 5 times \",len(w2v_words))\n",
    "for i in w2v_words:\n",
    "    list.append(i)\n",
    "print(\"sample words \", list[0:50])\n",
    "\n",
    "\n",
    "# average Word2Vec\n",
    "# compute average word2vec for each review.\n",
    "sent_vectors_cv = []; # the avg-w2v for each sentence/review is stored in this list\n",
    "for sent in tqdm(list_of_sentance): # for each review/sentence\n",
    "    sent_vec = np.zeros(50) # as word vectors are of zero length 50, you might need to change this to 300 if you use google's w2v\n",
    "    cnt_words =0; # num of words with a valid vector in the sentence/review\n",
    "    for word in sent: # for each word in a review/sentence\n",
    "        if word in w2v_words:\n",
    "            vec = w2v_model.wv[word]\n",
    "            sent_vec += vec\n",
    "            cnt_words += 1\n",
    "    if cnt_words != 0:\n",
    "        sent_vec /= cnt_words\n",
    "    sent_vectors_cv.append(sent_vec)\n",
    "print(len(sent_vectors_cv))\n",
    "print(len(sent_vectors_cv[0]))\n",
    "\n",
    "## [4.4] Word2Vec\n",
    "\n",
    "# Train your own Word2Vec model using your own text corpus\n",
    "i=0\n",
    "list_of_sentance=[]\n",
    "for sentance in x_test:\n",
    "    list_of_sentance.append(sentance.split())\n",
    "                            \n",
    "\n",
    "list=[]\n",
    "w2v_words_dict = (w2v_model.wv.vocab)\n",
    "w2v_words=w2v_words_dict.keys()\n",
    "list=[]\n",
    "print(\"number of words that occured minimum 5 times \",len(w2v_words))\n",
    "for i in w2v_words:\n",
    "    list.append(i)\n",
    "print(\"sample words \", list[0:50])\n",
    "\n",
    "\n",
    "# average Word2Vec\n",
    "# compute average word2vec for each review.\n",
    "sent_vectors_test = []; # the avg-w2v for each sentence/review is stored in this list\n",
    "for sent in tqdm(list_of_sentance): # for each review/sentence\n",
    "    sent_vec = np.zeros(50) # as word vectors are of zero length 50, you might need to change this to 300 if you use google's w2v\n",
    "    cnt_words =0; # num of words with a valid vector in the sentence/review\n",
    "    for word in sent: # for each word in a review/sentence\n",
    "        if word in w2v_words:\n",
    "            vec = w2v_model.wv[word]\n",
    "            sent_vec += vec\n",
    "            cnt_words += 1\n",
    "    if cnt_words != 0:\n",
    "        sent_vec /= cnt_words\n",
    "    sent_vectors_test.append(sent_vec)\n",
    "print(len(sent_vectors_test))\n",
    "print(len(sent_vectors_test[0]))"
   ]
  },
  {
   "cell_type": "markdown",
   "metadata": {},
   "source": [
    "## TFIDF-W2V"
   ]
  },
  {
   "cell_type": "code",
   "execution_count": null,
   "metadata": {},
   "outputs": [],
   "source": [
    "## [4.4] Word2Vec\n",
    "\n",
    "# Train your own Word2Vec model using your own text corpus\n",
    "i=0\n",
    "list_of_sentance=[]\n",
    "for sentance in x_train:\n",
    "    list_of_sentance.append(sentance.split())\n",
    "                            \n",
    "\n",
    "list=[]\n",
    "w2v_words_dict = (w2v_model.wv.vocab)\n",
    "w2v_words=w2v_words_dict.keys()\n",
    "list=[]\n",
    "print(\"number of words that occured minimum 5 times \",len(w2v_words))\n",
    "for i in w2v_words:\n",
    "    list.append(i)\n",
    "print(\"sample words \", list[0:50])\n",
    "\n",
    "\n",
    "# S = [\"abc def pqr\", \"def def def abc\", \"pqr pqr def\"]\n",
    "model = TfidfVectorizer()\n",
    "tf_idf_matrix = model.fit_transform(x_train)\n",
    "# we are converting a dictionary with word as a key, and the idf as a value\n",
    "list=[]\n",
    "for i in model.idf_:\n",
    "    list.append(i)\n",
    "dictionary = dict(zip(model.get_feature_names(), list))\n",
    "\n",
    "# TF-IDF weighted Word2Vec\n",
    "tfidf_feat = model.get_feature_names() # tfidf words/col-names\n",
    "# final_tf_idf is the sparse matrix with row= sentence, col=word and cell_val = tfidf\n",
    "\n",
    "tfidf_sent_vectors_train = []; # the tfidf-w2v for each sentence/review is stored in this list\n",
    "row=0;\n",
    "for sent in tqdm(list_of_sentance): # for each review/sentence \n",
    "    sent_vec = np.zeros(50) # as word vectors are of zero length\n",
    "    weight_sum =0; # num of words with a valid vector in the sentence/review\n",
    "    for word in sent: # for each word in a review/sentence\n",
    "        if word in w2v_words and word in tfidf_feat:\n",
    "            vec = w2v_model.wv[word]\n",
    "#             tf_idf = tf_idf_matrix[row, tfidf_feat.index(word)]\n",
    "            # to reduce the computation we are \n",
    "            # dictionary[word] = idf value of word in whole courpus\n",
    "            # sent.count(word) = tf valeus of word in this review\n",
    "            tf_idf = dictionary[word]*(sent.count(word)/len(sent))\n",
    "            sent_vec += (vec * tf_idf)\n",
    "            weight_sum += tf_idf\n",
    "    if weight_sum != 0:\n",
    "        sent_vec /= weight_sum\n",
    "    tfidf_sent_vectors_train.append(sent_vec)\n",
    "    row += 1\n",
    "\n",
    "## [4.4] Word2Vec\n",
    "\n",
    "# Train your own Word2Vec model using your own text corpus\n",
    "i=0\n",
    "list_of_sentance=[]\n",
    "for sentance in x_cv:\n",
    "    list_of_sentance.append(sentance.split())\n",
    "                            \n",
    "\n",
    "list=[]\n",
    "w2v_words_dict = (w2v_model.wv.vocab)\n",
    "w2v_words=w2v_words_dict.keys()\n",
    "list=[]\n",
    "print(\"number of words that occured minimum 5 times \",len(w2v_words))\n",
    "for i in w2v_words:\n",
    "    list.append(i)\n",
    "print(\"sample words \", list[0:50])\n",
    "\n",
    "\n",
    "# S = [\"abc def pqr\", \"def def def abc\", \"pqr pqr def\"]\n",
    "model = TfidfVectorizer()\n",
    "tf_idf_matrix = model.fit_transform(x_cv)\n",
    "# we are converting a dictionary with word as a key, and the idf as a value\n",
    "list=[]\n",
    "for i in model.idf_:\n",
    "    list.append(i)\n",
    "dictionary = dict(zip(model.get_feature_names(), list))\n",
    "\n",
    "# TF-IDF weighted Word2Vec\n",
    "tfidf_feat = model.get_feature_names() # tfidf words/col-names\n",
    "# final_tf_idf is the sparse matrix with row= sentence, col=word and cell_val = tfidf\n",
    "\n",
    "tfidf_sent_vectors_cv = []; # the tfidf-w2v for each sentence/review is stored in this list\n",
    "row=0;\n",
    "for sent in tqdm(list_of_sentance): # for each review/sentence \n",
    "    sent_vec = np.zeros(50) # as word vectors are of zero length\n",
    "    weight_sum =0; # num of words with a valid vector in the sentence/review\n",
    "    for word in sent: # for each word in a review/sentence\n",
    "        if word in w2v_words and word in tfidf_feat:\n",
    "            vec = w2v_model.wv[word]\n",
    "#             tf_idf = tf_idf_matrix[row, tfidf_feat.index(word)]\n",
    "            # to reduce the computation we are \n",
    "            # dictionary[word] = idf value of word in whole courpus\n",
    "            # sent.count(word) = tf valeus of word in this review\n",
    "            tf_idf = dictionary[word]*(sent.count(word)/len(sent))\n",
    "            sent_vec += (vec * tf_idf)\n",
    "            weight_sum += tf_idf\n",
    "    if weight_sum != 0:\n",
    "        sent_vec /= weight_sum\n",
    "    tfidf_sent_vectors_cv.append(sent_vec)\n",
    "    row += 1\n",
    "\n",
    "## [4.4] Word2Vec\n",
    "\n",
    "# Train your own Word2Vec model using your own text corpus\n",
    "i=0\n",
    "list_of_sentance=[]\n",
    "for sentance in x_test:\n",
    "    list_of_sentance.append(sentance.split())\n",
    "                            \n",
    "\n",
    "list=[]\n",
    "w2v_words_dict = (w2v_model.wv.vocab)\n",
    "w2v_words=w2v_words_dict.keys()\n",
    "list=[]\n",
    "print(\"number of words that occured minimum 5 times \",len(w2v_words))\n",
    "for i in w2v_words:\n",
    "    list.append(i)\n",
    "print(\"sample words \", list[0:50])\n",
    "\n",
    "\n",
    "# S = [\"abc def pqr\", \"def def def abc\", \"pqr pqr def\"]\n",
    "model = TfidfVectorizer()\n",
    "tf_idf_matrix = model.fit_transform(x_test)\n",
    "# we are converting a dictionary with word as a key, and the idf as a value\n",
    "list=[]\n",
    "for i in model.idf_:\n",
    "    list.append(i)\n",
    "dictionary = dict(zip(model.get_feature_names(), list))\n",
    "\n",
    "# TF-IDF weighted Word2Vec\n",
    "Tfidf_feat = model.get_feature_names() # Tfidf words/col-names\n",
    "# final_tf_idf is the sparse matrix with row= sentence, col=word and cell_val = Tfidf\n",
    "\n",
    "Tfidf_sent_vectors_test = []; # the Tfidf-w2v for each sentence/review is stored in this list\n",
    "row=0;\n",
    "for sent in tqdm(list_of_sentance): # for each review/sentence \n",
    "    sent_vec = np.zeros(50) # as word vectors are of zero length\n",
    "    weight_sum =0; # num of words with a valid vector in the sentence/review\n",
    "    for word in sent: # for each word in a review/sentence\n",
    "        if word in w2v_words and word in Tfidf_feat:\n",
    "            vec = w2v_model.wv[word]\n",
    "#             tf_idf = tf_idf_matrix[row, Tfidf_feat.index(word)]\n",
    "            # to reduce the computation we are \n",
    "            # dictionary[word] = idf value of word in whole courpus\n",
    "            # sent.count(word) = tf valeus of word in this review\n",
    "            tf_idf = dictionary[word]*(sent.count(word)/len(sent))\n",
    "            sent_vec += (vec * tf_idf)\n",
    "            weight_sum += tf_idf\n",
    "    if weight_sum != 0:\n",
    "        sent_vec /= weight_sum\n",
    "    Tfidf_sent_vectors_test.append(sent_vec)\n",
    "    row += 1"
   ]
  },
  {
   "cell_type": "code",
   "execution_count": null,
   "metadata": {},
   "outputs": [],
   "source": []
  },
  {
   "cell_type": "code",
   "execution_count": 537,
   "metadata": {},
   "outputs": [],
   "source": [
    "from sklearn.preprocessing import StandardScaler \n",
    "scaler= StandardScaler(with_mean=False)\n",
    "train_bow = scaler.fit_transform (train_bow)\n",
    "cv_bow=scaler.transform(cv_bow)\n",
    "test_bow=scaler.transform(test_bow)"
   ]
  },
  {
   "cell_type": "code",
   "execution_count": 538,
   "metadata": {},
   "outputs": [],
   "source": [
    "scaler= StandardScaler(with_mean=False)\n",
    "train_tf_idf = scaler.fit_transform(train_tf_idf)\n",
    "cv_tf_idf=scaler.transform(cv_tf_idf)\n",
    "test_tf_idf=scaler.transform(test_tf_idf)"
   ]
  },
  {
   "cell_type": "code",
   "execution_count": 539,
   "metadata": {},
   "outputs": [],
   "source": [
    "scaler= StandardScaler()\n",
    "sent_vectors_train = scaler.fit_transform(sent_vectors_train)\n",
    "sent_vectors_cv=scaler.transform(sent_vectors_cv)\n",
    "sent_vectors_test=scaler.transform(sent_vectors_test)"
   ]
  },
  {
   "cell_type": "code",
   "execution_count": 540,
   "metadata": {},
   "outputs": [],
   "source": [
    "scaler= StandardScaler()\n",
    "\n",
    "tfidf_sent_vectors_cv=scaler.fit_transform(tfidf_sent_vectors_cv)\n",
    "tfidf_sent_vectors_test=scaler.transform(Tfidf_sent_vectors_test)\n",
    "tfidf_sent_vectors_train=scaler.transform(tfidf_sent_vectors_train)"
   ]
  },
  {
   "cell_type": "markdown",
   "metadata": {},
   "source": [
    "# Applying SVM"
   ]
  },
  {
   "cell_type": "markdown",
   "metadata": {},
   "source": [
    "## [5.1] Linear kernel"
   ]
  },
  {
   "cell_type": "code",
   "execution_count": 439,
   "metadata": {},
   "outputs": [],
   "source": [
    "# Please write all the code with proper documentation\n",
    "# Please write all the code with proper documentation\n",
    "import math\n",
    "from sklearn.calibration import CalibratedClassifierCV\n",
    "from  sklearn.linear_model import SGDClassifier\n",
    "from sklearn.datasets import load_iris\n",
    "from sklearn.metrics import roc_auc_score\n",
    "\n",
    "def SimpleCrossValidation(x_train,x_cv,pred_train_data,pred_cv_data,x_test):\n",
    "    print(\"AFTER FEATURE ENGINEERING\")\n",
    "    list_train=[]\n",
    "    list_cv=[]\n",
    "\n",
    "    alpha=.00001\n",
    "    ALPHA=[]\n",
    "    while (alpha<1000):\n",
    "        ALPHA.append(math.ceil(math.log(alpha,10)))\n",
    "       \n",
    "        clf = SGDClassifier(loss='hinge',penalty='l2',alpha=alpha,class_weight='balanced')\n",
    "        # fitting the model on crossvalidation traincc\n",
    "        clf.fit(x_train, y_train)\n",
    "         \n",
    "        #calibrate model on validation data\n",
    "        clf=CalibratedClassifierCV(clf,cv='prefit')\n",
    "        clf.fit(x_cv,y_cv)  \n",
    "         \n",
    "        predicted_train=[]\n",
    "        pred_train=[]\n",
    "        predicted_cv=[]\n",
    "        pred_cv=[]\n",
    "        # predict the response on the train \n",
    "       \n",
    "        for j in range(0,60000,1000):\n",
    "                predicted_train =clf.predict_proba(pred_train_data[j:(j+1000)])\n",
    "                pred_train.extend(predicted_train[:,1])\n",
    "\n",
    "        # predict the response on the crossvalidation \n",
    "        \n",
    "        for j in range(0,20000,1000):\n",
    "                predicted_cv =clf.predict_proba(pred_cv_data[j:(j+1000)])\n",
    "                pred_cv.extend(predicted_cv[:,1])\n",
    "        alpha*=10\n",
    "\n",
    "        # evaluate train accuracy\n",
    "        auc_train=roc_auc_score(y_train,pred_train)\n",
    "        #print('AUC train SCORE  FOR', alpha ,'is', auc_train*100)\n",
    "        list_train.append(auc_train)\n",
    "    \n",
    "     \n",
    "        # evaluate cv accuracy\n",
    "        auc_cv=roc_auc_score(y_cv,pred_cv)  \n",
    "        print('AUC cv SCORE  FOR', alpha ,'is', auc_cv*100)\n",
    "        list_cv.append(auc_cv)\n",
    "        list_cv_max=max(list_cv)\n",
    "\n",
    "    print(\"=\"*50)\n",
    "    print(\"train AUC SCORE\",list_train)\n",
    "    pred_train=pred_train\n",
    "    print(\"=\"*50)\n",
    "    print(\" MAX CV AUC SCORE\",list_cv_max*100)\n",
    "    pred_cv=pred_cv\n",
    "    #pred_test=predict_test(x_test,x_train)\n",
    "    \n",
    "    return list_train,list_cv,pred_train,pred_cv,ALPHA,pred_test,clf\n",
    "        "
   ]
  },
  {
   "cell_type": "code",
   "execution_count": 254,
   "metadata": {},
   "outputs": [],
   "source": [
    "def AUCcurve(y1,y2):\n",
    "    \n",
    "    x=ALPHA\n",
    "    plt.xlabel('hyperparameter')\n",
    "    plt.ylabel('AREA UNDER GRAPH')\n",
    "    plt.title(\"auc of train and cv data\")\n",
    "    plt.plot(x,y1,'y', label='train')\n",
    "    plt.plot(x,y2, 'r',label='cv' )\n",
    "    plt.legend()\n",
    "    plt.show()"
   ]
  },
  {
   "cell_type": "code",
   "execution_count": 255,
   "metadata": {},
   "outputs": [],
   "source": [
    "# ROC FOR TRAIN AND TEST TFIDF\n",
    "def ROC_curve(pred_train,pred_test):\n",
    "    plt.title('Receiver Operating Characteristic  after feature engineering')\n",
    "    fbr_train,tpr_train,thresholds=metrics.roc_curve(y_train,pred_train)\n",
    "    roc_auc=metrics.auc(fbr_train,tpr_train)\n",
    "    fbr_test,tpr_test,thresholds=metrics.roc_curve(y_test,pred_test)\n",
    "    roc_auc=metrics.auc(fbr_test,tpr_test)\n",
    "    plt.plot(fbr_test,tpr_test,'b',label=\"roc_auc of test\")\n",
    "    plt.legend()\n",
    "    plt.ylabel('True positive rate')\n",
    "    plt.xlabel('False positive rate')\n",
    "    plt.plot(fbr_train,tpr_train,'r',label=\"roc_auc of train\")\n",
    "    plt.legend(loc='lower right')\n",
    "    plt.show()\n"
   ]
  },
  {
   "cell_type": "code",
   "execution_count": 256,
   "metadata": {},
   "outputs": [],
   "source": [
    "# CONFUSION MATRIX FOR TFIDF\n",
    "def confusion(pred_test):\n",
    "    confusion_tf_idf2=confusion_matrix(y_test,pred_test)\n",
    "    plt.figure(figsize=[8,6])\n",
    "    sns.heatmap(confusion_tf_idf2,annot=True,annot_kws={'size':16},fmt='g')\n",
    "    plt.title(\"confusion matrix for tf_idf after feature engineering\")\n",
    "    plt.xlabel(\"Predicted values\")\n",
    "    plt.ylabel(\"Actual Value\")\n",
    "    plt.show()"
   ]
  },
  {
   "cell_type": "markdown",
   "metadata": {},
   "source": [
    "### [5.1.1] Applying Linear SVM on BOW,<font color='red'> SET 1</font>"
   ]
  },
  {
   "cell_type": "code",
   "execution_count": 403,
   "metadata": {},
   "outputs": [
    {
     "name": "stdout",
     "output_type": "stream",
     "text": [
      "AFTER FEATURE ENGINEERING\n",
      "AUC cv SCORE  FOR 0.0001 is 91.94434893693678\n",
      "AUC cv SCORE  FOR 0.001 is 93.15002625278031\n",
      "AUC cv SCORE  FOR 0.01 is 94.17033328434746\n",
      "AUC cv SCORE  FOR 0.1 is 93.09242483364558\n",
      "AUC cv SCORE  FOR 1.0 is 88.42498677296086\n",
      "AUC cv SCORE  FOR 10.0 is 79.45810853506387\n",
      "AUC cv SCORE  FOR 100.0 is 74.28610499072967\n",
      "AUC cv SCORE  FOR 1000.0 is 74.28610499072967\n",
      "==================================================\n",
      "train AUC SCORE [0.9564679913670768, 0.9636798726012863, 0.96061029318162, 0.9387314791885946, 0.8852735090859909, 0.7948341930239564, 0.7450192556364992, 0.7450192556364992]\n",
      "==================================================\n",
      " MAX CV AUC SCORE 94.17033328434746\n"
     ]
    }
   ],
   "source": [
    "list_train,list_cv,pred_train,pred_cv,ALPHA,pred_test,clf=SimpleCrossValidation(x_test=test_bow,x_train=train_bow,x_cv=cv_bow,pred_train_data=train_bow,pred_cv_data=cv_bow)"
   ]
  },
  {
   "cell_type": "code",
   "execution_count": 406,
   "metadata": {},
   "outputs": [
    {
     "name": "stdout",
     "output_type": "stream",
     "text": [
      "AUC VALUE FOR TEST DATA 86.67712360162967\n"
     ]
    }
   ],
   "source": [
    " clf = SGDClassifier(loss='hinge',penalty='l2',alpha=alpha,class_weight='balanced')\n",
    "# AUC VALUE FOR BEST HYPERPARAMETER\n",
    "clf = SGDClassifier(alpha=.01)\n",
    "clf.fit(train_bow, y_train)\n",
    "#calibrate model on validation data\n",
    "clf=CalibratedClassifierCV(clf,cv='prefit')\n",
    "clf.fit(cv_bow,y_cv)  \n",
    "pred_test_bow= (clf.predict_proba(test_bow))[:,1]\n",
    "auc_test=roc_auc_score(y_test,pred_test_bow)*100\n",
    "print('AUC VALUE FOR TEST DATA',auc_test)\n",
    "pred_test=clf.predict(test_bow)"
   ]
  },
  {
   "cell_type": "code",
   "execution_count": 407,
   "metadata": {},
   "outputs": [
    {
     "data": {
      "image/png": "[encoded data removed]",
      "text/plain": [
       "<Figure size 432x288 with 1 Axes>"
      ]
     },
     "metadata": {},
     "output_type": "display_data"
    },
    {
     "data": {
      "image/png": "[encoded data removed]",
      "text/plain": [
       "<Figure size 432x288 with 1 Axes>"
      ]
     },
     "metadata": {},
     "output_type": "display_data"
    },
    {
     "data": {
      "image/png": "[encoded data removed]",
      "text/plain": [
       "<Figure size 576x432 with 2 Axes>"
      ]
     },
     "metadata": {},
     "output_type": "display_data"
    }
   ],
   "source": [
    "AUCcurve(y1=list_train,y2=list_cv)\n",
    "ROC_curve(pred_train,pred_test)\n",
    "confusion(pred_test)"
   ]
  },
  {
   "cell_type": "code",
   "execution_count": 408,
   "metadata": {},
   "outputs": [],
   "source": [
    "def show_most_informative_features(vectorizer, clf, n=20):\n",
    "    feature_names = vectorizer.get_feature_names()\n",
    "    coefs_with_fns = sorted(zip(clf.coef_[0], feature_names))\n",
    "    top = zip(coefs_with_fns[:n], coefs_with_fns[:-(n + 1):-1])\n",
    "    for (coef_1, fn_1), (coef_2, fn_2) in top:\n",
    "        print (\"\\t%.4f\\t%-15s\\t\\t%.4f\\t%-15s\" % (coef_1, fn_1, coef_2, fn_2))\n"
   ]
  },
  {
   "cell_type": "code",
   "execution_count": 409,
   "metadata": {},
   "outputs": [
    {
     "name": "stdout",
     "output_type": "stream",
     "text": [
      "\t-0.0637\trecommended    \t\t0.1923\tsingle         \n",
      "\t-0.0580\tnew            \t\t0.1237\tstarbucks      \n",
      "\t-0.0577\tstill          \t\t0.1237\tsoup           \n",
      "\t-0.0337\ttaste like     \t\t0.0990\tbox            \n",
      "\t-0.0173\tgreen tea      \t\t0.0737\tpopcorn        \n",
      "\t-0.0170\tend            \t\t0.0720\tterrible       \n",
      "\t-0.0140\tnot buy        \t\t0.0613\tcrackers       \n",
      "\t-0.0137\tsaw            \t\t0.0587\tsoy            \n",
      "\t-0.0130\tavailable      \t\t0.0380\tson            \n",
      "\t-0.0123\tus             \t\t0.0377\tcould          \n"
     ]
    }
   ],
   "source": [
    "show_most_informative_features(count_vect, clf, n=10)"
   ]
  },
  {
   "cell_type": "markdown",
   "metadata": {},
   "source": [
    "### [5.1.4]  Applying Linear SVM on TFIDF ,<font color='red'> SET 2</font>"
   ]
  },
  {
   "cell_type": "code",
   "execution_count": 411,
   "metadata": {},
   "outputs": [
    {
     "name": "stdout",
     "output_type": "stream",
     "text": [
      "AFTER FEATURE ENGINEERING\n",
      "AUC cv SCORE  FOR 0.0001 is 96.72134141436052\n",
      "AUC cv SCORE  FOR 0.001 is 95.69379067471169\n",
      "AUC cv SCORE  FOR 0.01 is 92.00940643352999\n",
      "AUC cv SCORE  FOR 0.1 is 90.95886243125435\n",
      "AUC cv SCORE  FOR 1.0 is 90.95886243125435\n",
      "AUC cv SCORE  FOR 10.0 is 90.95886243125435\n",
      "AUC cv SCORE  FOR 100.0 is 90.95886243125435\n",
      "AUC cv SCORE  FOR 1000.0 is 90.95886243125435\n",
      "==================================================\n",
      "train AUC SCORE [0.9994566007776092, 0.977609475574754, 0.9285205864203658, 0.9168477176151941, 0.9168477176151941, 0.9168477176151941, 0.9168477176151941, 0.9168477176151941]\n",
      "==================================================\n",
      " MAX CV AUC SCORE 96.72134141436052\n"
     ]
    }
   ],
   "source": [
    "list_train,list_cv,pred_train,pred_cv,ALPHA,pred_test,clf=SimpleCrossValidation(x_train=train_tf_idf,x_cv=cv_tf_idf,pred_train_data=train_tf_idf,pred_cv_data=cv_tf_idf,x_test=test_tf_idf)\n"
   ]
  },
  {
   "cell_type": "code",
   "execution_count": 414,
   "metadata": {},
   "outputs": [
    {
     "name": "stdout",
     "output_type": "stream",
     "text": [
      "AUC VALUE FOR TEST DATA 89.15000390835287\n"
     ]
    }
   ],
   "source": [
    "# AUC VALUE FOR BEST HYPERPARAMETER\n",
    "clf = SGDClassifier(alpha=.0001)\n",
    "clf.fit(train_tf_idf, y_train)\n",
    "#calibrate model on validation data\n",
    "clf=CalibratedClassifierCV(clf,cv='prefit')\n",
    "clf.fit(cv_tf_idf,y_cv)  \n",
    "pred_test_tf_idf= (clf.predict_proba(test_tf_idf))[:,1]\n",
    "auc_test=roc_auc_score(y_test,pred_test_tf_idf)*100\n",
    "print('AUC VALUE FOR TEST DATA',auc_test)\n",
    "pred_test=clf.predict(test_tf_idf)"
   ]
  },
  {
   "cell_type": "code",
   "execution_count": 415,
   "metadata": {},
   "outputs": [
    {
     "data": {
      "image/png": "[encoded data removed]",
      "text/plain": [
       "<Figure size 432x288 with 1 Axes>"
      ]
     },
     "metadata": {},
     "output_type": "display_data"
    },
    {
     "data": {
      "image/png": "[encoded data removed]",
      "text/plain": [
       "<Figure size 432x288 with 1 Axes>"
      ]
     },
     "metadata": {},
     "output_type": "display_data"
    },
    {
     "data": {
      "image/png": "[encoded data removed]",
      "text/plain": [
       "<Figure size 576x432 with 2 Axes>"
      ]
     },
     "metadata": {},
     "output_type": "display_data"
    }
   ],
   "source": [
    "AUCcurve(y1=list_train,y2=list_cv)\n",
    "ROC_curve(pred_train,pred_test)\n",
    "confusion(pred_test)"
   ]
  },
  {
   "cell_type": "code",
   "execution_count": 416,
   "metadata": {},
   "outputs": [
    {
     "name": "stdout",
     "output_type": "stream",
     "text": [
      "\t-7.0525\tnot            \t\t7.5932\tgreat          \n",
      "\t-5.1156\tdisappointed   \t\t6.2286\tbest           \n",
      "\t-3.8897\tworst          \t\t5.6212\tdelicious      \n",
      "\t-3.8805\tnot good       \t\t5.2133\tgood           \n",
      "\t-3.6627\tbad            \t\t4.9333\tlove           \n",
      "\t-3.4999\tthought        \t\t4.5166\tperfect        \n",
      "\t-3.4674\tterrible       \t\t4.3672\tloves          \n",
      "\t-3.3964\tdisappointing  \t\t4.2764\texcellent      \n",
      "\t-3.3841\tunfortunately  \t\t3.9211\twonderful      \n",
      "\t-3.3830\tawful          \t\t3.8013\tnice           \n"
     ]
    }
   ],
   "source": [
    "show_most_informative_features(tf_idf_vect, clf, n=10)"
   ]
  },
  {
   "cell_type": "markdown",
   "metadata": {},
   "source": [
    "### [5.1.3]  Applying Linear SVM on AVG-W2V,<font color='red'> SET 3</font>"
   ]
  },
  {
   "cell_type": "code",
   "execution_count": 419,
   "metadata": {},
   "outputs": [
    {
     "name": "stdout",
     "output_type": "stream",
     "text": [
      "AFTER FEATURE ENGINEERING\n",
      "AUC cv SCORE  FOR 0.0001 is 90.45415805199349\n",
      "AUC cv SCORE  FOR 0.001 is 91.44816147552875\n",
      "AUC cv SCORE  FOR 0.01 is 91.757079406148\n",
      "AUC cv SCORE  FOR 0.1 is 91.5617106508305\n",
      "AUC cv SCORE  FOR 1.0 is 90.85112070289311\n",
      "AUC cv SCORE  FOR 10.0 is 89.68189040067368\n",
      "AUC cv SCORE  FOR 100.0 is 89.47985465600887\n",
      "AUC cv SCORE  FOR 1000.0 is 89.47984559759942\n",
      "==================================================\n",
      "train AUC SCORE [0.9028271072247314, 0.9134664205877008, 0.9169885399172394, 0.9152790991168598, 0.9085661679449599, 0.8955179954015877, 0.8942434828843824, 0.8942435029285973]\n",
      "==================================================\n",
      " MAX CV AUC SCORE 91.757079406148\n"
     ]
    }
   ],
   "source": [
    "list_train,list_cv,pred_train,pred_cv,ALPHA,pred_test,clf=SimpleCrossValidation(x_test=sent_vectors_test,x_train=sent_vectors_train,x_cv=sent_vectors_cv,pred_train_data=sent_vectors_train,pred_cv_data=sent_vectors_cv)"
   ]
  },
  {
   "cell_type": "code",
   "execution_count": 420,
   "metadata": {},
   "outputs": [
    {
     "name": "stdout",
     "output_type": "stream",
     "text": [
      "AUC VALUE FOR TEST DATA 80.79134992179881\n"
     ]
    }
   ],
   "source": [
    "# AUC VALUE FOR BEST HYPERPARAMETER\n",
    "clf = SGDClassifier(alpha=.01)\n",
    "clf.fit(sent_vectors_train, y_train)\n",
    "#calibrate model on validation data\n",
    "clf=CalibratedClassifierCV(clf,cv='prefit')\n",
    "clf.fit(sent_vectors_cv,y_cv)  \n",
    "pred_test_sent_vectors= (clf.predict_proba(sent_vectors_test))[:,1]\n",
    "auc_test=roc_auc_score(y_test,pred_test_sent_vectors)*100\n",
    "print('AUC VALUE FOR TEST DATA',auc_test)\n",
    "pred_test=clf.predict(sent_vectors_test)"
   ]
  },
  {
   "cell_type": "code",
   "execution_count": 421,
   "metadata": {},
   "outputs": [
    {
     "data": {
      "image/png": "[encoded data removed]",
      "text/plain": [
       "<Figure size 432x288 with 1 Axes>"
      ]
     },
     "metadata": {},
     "output_type": "display_data"
    },
    {
     "data": {
      "image/png": "[encoded data removed]",
      "text/plain": [
       "<Figure size 432x288 with 1 Axes>"
      ]
     },
     "metadata": {},
     "output_type": "display_data"
    },
    {
     "data": {
      "image/png": "[encoded data removed]",
      "text/plain": [
       "<Figure size 576x432 with 2 Axes>"
      ]
     },
     "metadata": {},
     "output_type": "display_data"
    }
   ],
   "source": [
    "AUCcurve(y1=list_train,y2=list_cv)\n",
    "ROC_curve(pred_train,pred_test)\n",
    "confusion(pred_test)"
   ]
  },
  {
   "cell_type": "markdown",
   "metadata": {},
   "source": [
    "### [5.1.4]  Applying Linear SVM on tfidf-W2V,<font color='red'> SET 4</font>"
   ]
  },
  {
   "cell_type": "code",
   "execution_count": 422,
   "metadata": {},
   "outputs": [
    {
     "name": "stdout",
     "output_type": "stream",
     "text": [
      "AFTER FEATURE ENGINEERING\n",
      "AUC cv SCORE  FOR 0.0001 is 92.14188063913036\n",
      "AUC cv SCORE  FOR 0.001 is 93.22624672927256\n",
      "AUC cv SCORE  FOR 0.01 is 94.31721438691612\n",
      "AUC cv SCORE  FOR 0.1 is 92.97844890661023\n",
      "AUC cv SCORE  FOR 1.0 is 88.45845759583915\n",
      "AUC cv SCORE  FOR 10.0 is 79.45824340471552\n",
      "AUC cv SCORE  FOR 100.0 is 74.28587551102387\n",
      "AUC cv SCORE  FOR 1000.0 is 74.28610499072967\n",
      "==================================================\n",
      "train AUC SCORE [0.9604440431226383, 0.966435420419874, 0.9625194111100088, 0.9374930985958595, 0.8855503531006156, 0.794821591894197, 0.7450167868573656, 0.7450192556364992]\n",
      "==================================================\n",
      " MAX CV AUC SCORE 94.31721438691612\n"
     ]
    }
   ],
   "source": [
    "list_train,list_cv,pred_train,pred_cv,ALPHA,pred_test=SimpleCrossValidation(x_train=tfidf_sent_vectors_train,x_cv=tfidf_sent_vectors_cv,pred_train_data=sent_vectors_train,pred_cv_data=sent_vectors_cv)"
   ]
  },
  {
   "cell_type": "code",
   "execution_count": 426,
   "metadata": {},
   "outputs": [
    {
     "name": "stdout",
     "output_type": "stream",
     "text": [
      "AUC VALUE FOR TEST DATA 89.14802363608021\n"
     ]
    }
   ],
   "source": [
    "# AUC VALUE FOR BEST HYPERPARAMETER\n",
    "clf = SGDClassifier(alpha=.01)\n",
    "clf.fit(tfidf_sent_vectors_train, y_train)\n",
    "\n",
    "#calibrate model on validation data\n",
    "clf=CalibratedClassifierCV(clf,cv='prefit')\n",
    "clf.fit(tfidf_sent_vectors_cv,y_cv)\n",
    "\n",
    "pred_test_tf_idf= (clf.predict_proba(tfidf_sent_vectors_test))[:,1]\n",
    "auc_test=roc_auc_score(y_test,pred_test_tf_idf)*100\n",
    "print('AUC VALUE FOR TEST DATA',auc_test)\n",
    "pred_test=clf.predict(tfidf_sent_vectors_test)"
   ]
  },
  {
   "cell_type": "code",
   "execution_count": 424,
   "metadata": {},
   "outputs": [
    {
     "data": {
      "image/png": "[encoded data removed]",
      "text/plain": [
       "<Figure size 432x288 with 1 Axes>"
      ]
     },
     "metadata": {},
     "output_type": "display_data"
    },
    {
     "data": {
      "image/png": "[encoded data removed]",
      "text/plain": [
       "<Figure size 432x288 with 1 Axes>"
      ]
     },
     "metadata": {},
     "output_type": "display_data"
    },
    {
     "data": {
      "image/png": "[encoded data removed]",
      "text/plain": [
       "<Figure size 576x432 with 2 Axes>"
      ]
     },
     "metadata": {},
     "output_type": "display_data"
    }
   ],
   "source": [
    "AUCcurve(y1=list_train,y2=list_cv)\n",
    "ROC_curve(pred_train,pred_test)\n",
    "confusion(pred_test)"
   ]
  },
  {
   "cell_type": "markdown",
   "metadata": {},
   "source": [
    "## [5.2] RBF SVM"
   ]
  },
  {
   "cell_type": "code",
   "execution_count": 541,
   "metadata": {},
   "outputs": [],
   "source": [
    "import math\n",
    "from sklearn.calibration import CalibratedClassifierCV\n",
    "from  sklearn.svm import SVC\n",
    "from sklearn.datasets import load_iris\n",
    "from sklearn.metrics import roc_auc_score\n",
    "alpha=.00001\n",
    "# Please write all the code with proper documentation\n",
    "# Please write all the code with proper documentation\n",
    "import math\n",
    "from sklearn.calibration import CalibratedClassifierCV\n",
    "from  sklearn.linear_model import SGDClassifier\n",
    "from sklearn.datasets import load_iris\n",
    "from sklearn.metrics import roc_auc_score\n",
    "\n",
    "def SimpleCrossValidation_for_rbf_kernel(x_train,x_cv,pred_train_data,pred_cv_data,x_test):\n",
    "    print(\"AFTER FEATURE ENGINEERING\")\n",
    "    list_train=[]\n",
    "    list_cv=[]\n",
    "\n",
    "    alpha=.00001\n",
    "    ALPHA=[]\n",
    "    while (alpha<1000):\n",
    "        ALPHA.append(math.ceil(math.log(alpha,10)))\n",
    "       \n",
    "        clf =SVC(kernel='rbf',gamma='auto',C=alpha,probability=True,class_weight='balanced')\n",
    "        # fitting the model on crossvalidation traincc\n",
    "        clf.fit(x_train, y_train)\n",
    "         \n",
    "        \n",
    "        predicted_train=[]\n",
    "        pred_train=[]\n",
    "        predicted_cv=[]\n",
    "        pred_cv=[]\n",
    "        # predict the response on the train \n",
    "       \n",
    "        for j in range(0,10000,100):\n",
    "                predicted_train =clf.predict_proba(pred_train_data[j:(j+100)])\n",
    "                pred_train.extend(predicted_train[:,1])\n",
    "\n",
    "        # predict the response on the crossvalidation \n",
    "        \n",
    "        for j in range(0,5000,100):\n",
    "                predicted_cv =clf.predict_proba(pred_cv_data[j:(j+100)])\n",
    "                pred_cv.extend(predicted_cv[:,1])\n",
    "        alpha*=10\n",
    "\n",
    "        # evaluate train accuracy\n",
    "        auc_train=roc_auc_score(y_train,pred_train)\n",
    "        #print('AUC train SCORE  FOR', alpha ,'is', auc_train*100)\n",
    "        list_train.append(auc_train)\n",
    "    \n",
    "     \n",
    "        # evaluate cv accuracy\n",
    "        auc_cv=roc_auc_score(y_cv,pred_cv)  \n",
    "        print('AUC cv SCORE  FOR', alpha ,'is', auc_cv*100)\n",
    "        list_cv.append(auc_cv)\n",
    "        list_cv_max=max(list_cv)\n",
    "\n",
    "    print(\"=\"*50)\n",
    "    print(\"train AUC SCORE\",list_train)\n",
    "    pred_train=pred_train\n",
    "    print(\"=\"*50)\n",
    "    print(\" MAX CV AUC SCORE\",list_cv_max*100)\n",
    "    pred_cv=pred_cv\n",
    "    #pred_test=predict_test(x_test,x_train)\n",
    "    return list_train,list_cv,pred_train,pred_cv,ALPHA,clf        "
   ]
  },
  {
   "cell_type": "markdown",
   "metadata": {},
   "source": [
    "### [5.2.1] Applying RBF SVM on BOW,<font color='red'> SET 1</font>"
   ]
  },
  {
   "cell_type": "code",
   "execution_count": 542,
   "metadata": {},
   "outputs": [
    {
     "name": "stdout",
     "output_type": "stream",
     "text": [
      "AFTER FEATURE ENGINEERING\n",
      "AUC cv SCORE  FOR 0.0001 is 34.57771365006954\n",
      "AUC cv SCORE  FOR 0.001 is 34.57771365006954\n",
      "AUC cv SCORE  FOR 0.01 is 34.57770548162844\n",
      "AUC cv SCORE  FOR 0.1 is 65.43649126899835\n",
      "AUC cv SCORE  FOR 1.0 is 87.97726363431262\n",
      "AUC cv SCORE  FOR 10.0 is 89.71557324730985\n",
      "AUC cv SCORE  FOR 100.0 is 88.57030062640509\n",
      "AUC cv SCORE  FOR 1000.0 is 86.88421185734177\n",
      "==================================================\n",
      "train AUC SCORE [0.3541399770996885, 0.3541399770996885, 0.3541399770996885, 0.6457312906196395, 0.9122880600726139, 0.9774312722287171, 0.9979841410351104, 0.9999607997256942]\n",
      "==================================================\n",
      " MAX CV AUC SCORE 89.71557324730985\n"
     ]
    }
   ],
   "source": [
    "list_train,list_cv,pred_train,pred_cv,ALPHA,pred_test=SimpleCrossValidation_for_rbf_kernel(x_train=train_bow,x_cv=cv_bow,\n",
    "                                        pred_train_data=train_bow,pred_cv_data=cv_bow, x_test=test_bow)"
   ]
  },
  {
   "cell_type": "code",
   "execution_count": 543,
   "metadata": {},
   "outputs": [
    {
     "name": "stdout",
     "output_type": "stream",
     "text": [
      "AUC VALUE FOR TEST DATA 87.65261424535333\n"
     ]
    }
   ],
   "source": [
    "# AUC VALUE FOR BEST HYPERPARAMETER\n",
    "clf = SVC(C=100,probability=True)\n",
    "clf.fit(train_bow, y_train)\n",
    "pred_test_bow= (clf.predict_proba(test_bow))[:,1]\n",
    "auc_test=roc_auc_score(y_test,pred_test_bow)*100\n",
    "print('AUC VALUE FOR TEST DATA',auc_test)\n",
    "pred_test=clf.predict(test_bow)"
   ]
  },
  {
   "cell_type": "code",
   "execution_count": 544,
   "metadata": {},
   "outputs": [
    {
     "data": {
      "image/png": "[encoded data removed]",
      "text/plain": [
       "<Figure size 432x288 with 1 Axes>"
      ]
     },
     "metadata": {},
     "output_type": "display_data"
    },
    {
     "data": {
      "image/png": "[encoded data removed]",
      "text/plain": [
       "<Figure size 432x288 with 1 Axes>"
      ]
     },
     "metadata": {},
     "output_type": "display_data"
    },
    {
     "data": {
      "image/png": "[encoded data removed]",
      "text/plain": [
       "<Figure size 576x432 with 2 Axes>"
      ]
     },
     "metadata": {},
     "output_type": "display_data"
    }
   ],
   "source": [
    "AUCcurve(y1=list_train,y2=list_cv)\n",
    "ROC_curve(pred_train,pred_test_bow)\n",
    "confusion(pred_test)"
   ]
  },
  {
   "cell_type": "markdown",
   "metadata": {},
   "source": [
    "### [5.2.2] Applying RBF SVM on TFIDF,<font color='red'> SET 2</font>"
   ]
  },
  {
   "cell_type": "code",
   "execution_count": 545,
   "metadata": {},
   "outputs": [
    {
     "name": "stdout",
     "output_type": "stream",
     "text": [
      "AFTER FEATURE ENGINEERING\n",
      "AUC cv SCORE  FOR 0.0001 is 15.540655229868916\n",
      "AUC cv SCORE  FOR 0.001 is 15.540655229868916\n",
      "AUC cv SCORE  FOR 0.01 is 15.540655229868916\n",
      "AUC cv SCORE  FOR 0.1 is 84.45934477013108\n",
      "AUC cv SCORE  FOR 1.0 is 88.75179521914211\n",
      "AUC cv SCORE  FOR 10.0 is 90.09293888911488\n",
      "AUC cv SCORE  FOR 100.0 is 89.74510216187596\n",
      "AUC cv SCORE  FOR 1000.0 is 89.62555702641951\n",
      "==================================================\n",
      "train AUC SCORE [0.1277107971255694, 0.1277107971255694, 0.1277107971255694, 0.8722892028744306, 0.9256732098892957, 0.9900975345429184, 0.999986070014405, 0.9992512267263252]\n",
      "==================================================\n",
      " MAX CV AUC SCORE 90.09293888911488\n"
     ]
    }
   ],
   "source": [
    "list_train,list_cv,pred_train,pred_cv,ALPHA,clf=SimpleCrossValidation_for_rbf_kernel(x_train=train_tf_idf,  x_cv=cv_tf_idf,  pred_train_data=train_tf_idf,  pred_cv_data=cv_tf_idf, x_test=test_tf_idf)\n"
   ]
  },
  {
   "cell_type": "code",
   "execution_count": 547,
   "metadata": {},
   "outputs": [
    {
     "name": "stdout",
     "output_type": "stream",
     "text": [
      "AUC VALUE FOR TEST DATA 90.76515553936346\n"
     ]
    }
   ],
   "source": [
    "# AUC VALUE FOR BEST HYPERPARAMETER\n",
    "clf = SVC(C=10,probability=True)\n",
    "clf.fit(train_tf_idf, y_train)\n",
    "pred_test_tf_idf= (clf.predict_proba(test_tf_idf))[:,1]\n",
    "auc_test=roc_auc_score(y_test,pred_test_tf_idf)*100\n",
    "print('AUC VALUE FOR TEST DATA',auc_test)\n",
    "pred_test=clf.predict(test_tf_idf)"
   ]
  },
  {
   "cell_type": "code",
   "execution_count": 548,
   "metadata": {},
   "outputs": [
    {
     "data": {
      "image/png": "[encoded data removed]",
      "text/plain": [
       "<Figure size 432x288 with 1 Axes>"
      ]
     },
     "metadata": {},
     "output_type": "display_data"
    },
    {
     "data": {
      "image/png": "[encoded data removed]",
      "text/plain": [
       "<Figure size 432x288 with 1 Axes>"
      ]
     },
     "metadata": {},
     "output_type": "display_data"
    },
    {
     "data": {
      "image/png": "[encoded data removed]",
      "text/plain": [
       "<Figure size 576x432 with 2 Axes>"
      ]
     },
     "metadata": {},
     "output_type": "display_data"
    }
   ],
   "source": [
    "AUCcurve(y1=list_train,y2=list_cv)\n",
    "ROC_curve(pred_train,pred_test)\n",
    "confusion(pred_test)"
   ]
  },
  {
   "cell_type": "markdown",
   "metadata": {},
   "source": [
    "### [5.2.3]  Applying RBF SVM on AVG W2V,<font color='red'> SET 3</font>"
   ]
  },
  {
   "cell_type": "code",
   "execution_count": 549,
   "metadata": {},
   "outputs": [
    {
     "name": "stdout",
     "output_type": "stream",
     "text": [
      "AFTER FEATURE ENGINEERING\n",
      "AUC cv SCORE  FOR 0.0001 is 31.987149735203644\n",
      "AUC cv SCORE  FOR 0.001 is 31.987149735203644\n",
      "AUC cv SCORE  FOR 0.01 is 68.01285026479637\n",
      "AUC cv SCORE  FOR 0.1 is 73.61184286729274\n",
      "AUC cv SCORE  FOR 1.0 is 82.1237015650243\n",
      "AUC cv SCORE  FOR 10.0 is 85.17962973763457\n",
      "AUC cv SCORE  FOR 100.0 is 85.77710219324277\n",
      "AUC cv SCORE  FOR 1000.0 is 83.66858249284158\n",
      "==================================================\n",
      "train AUC SCORE [0.29554772181246525, 0.29554772181246525, 0.7044522781875346, 0.7542879607457601, 0.8335866279489645, 0.8731352563173739, 0.9129775212636948, 0.953799584222301]\n",
      "==================================================\n",
      " MAX CV AUC SCORE 85.77710219324277\n"
     ]
    }
   ],
   "source": [
    "list_train,list_cv,pred_train,pred_cv,ALPHA,pred_test=SimpleCrossValidation_for_rbf_kernel(x_train=sent_vectors_train\n",
    ",x_cv=sent_vectors_cv,pred_train_data=sent_vectors_train,pred_cv_data=sent_vectors_cv,x_test=sent_vectors_test)"
   ]
  },
  {
   "cell_type": "code",
   "execution_count": 550,
   "metadata": {},
   "outputs": [
    {
     "name": "stdout",
     "output_type": "stream",
     "text": [
      "AUC VALUE FOR TEST DATA 82.86634700501861\n"
     ]
    }
   ],
   "source": [
    "# AUC VALUE FOR BEST HYPERPARAMETER\n",
    "clf = SVC(C=100,probability=True)\n",
    "clf.fit(sent_vectors_train, y_train)\n",
    "pred_test_sent_vectors= (clf.predict_proba(sent_vectors_test))[:,1]\n",
    "auc_test=roc_auc_score(y_test,pred_test_sent_vectors)*100\n",
    "print('AUC VALUE FOR TEST DATA',auc_test)\n",
    "pred_test=clf.predict(sent_vectors_test)"
   ]
  },
  {
   "cell_type": "code",
   "execution_count": 551,
   "metadata": {},
   "outputs": [
    {
     "data": {
      "image/png": "[encoded data removed]",
      "text/plain": [
       "<Figure size 432x288 with 1 Axes>"
      ]
     },
     "metadata": {},
     "output_type": "display_data"
    },
    {
     "data": {
      "image/png": "[encoded data removed]",
      "text/plain": [
       "<Figure size 432x288 with 1 Axes>"
      ]
     },
     "metadata": {},
     "output_type": "display_data"
    },
    {
     "data": {
      "image/png": "[encoded data removed]",
      "text/plain": [
       "<Figure size 576x432 with 2 Axes>"
      ]
     },
     "metadata": {},
     "output_type": "display_data"
    }
   ],
   "source": [
    "AUCcurve(y1=list_train,y2=list_cv)\n",
    "ROC_curve(pred_train,pred_test)\n",
    "confusion(pred_test)"
   ]
  },
  {
   "cell_type": "markdown",
   "metadata": {},
   "source": [
    "### [5.2.4]  Applying RBF SVM on TFIDF W2V,<font color='red'> SET 4</font>"
   ]
  },
  {
   "cell_type": "code",
   "execution_count": 552,
   "metadata": {
    "scrolled": true
   },
   "outputs": [
    {
     "name": "stdout",
     "output_type": "stream",
     "text": [
      "AFTER FEATURE ENGINEERING\n",
      "AUC cv SCORE  FOR 0.0001 is 35.16338270829239\n",
      "AUC cv SCORE  FOR 0.001 is 35.16338270829239\n",
      "AUC cv SCORE  FOR 0.01 is 64.83661729170761\n",
      "AUC cv SCORE  FOR 0.1 is 69.59381936538075\n",
      "AUC cv SCORE  FOR 1.0 is 78.96904961331417\n",
      "AUC cv SCORE  FOR 10.0 is 83.04990476414525\n",
      "AUC cv SCORE  FOR 100.0 is 84.27407635760717\n",
      "AUC cv SCORE  FOR 1000.0 is 82.79219861597203\n",
      "==================================================\n",
      "train AUC SCORE [0.32625947641047787, 0.32625947641047787, 0.6737405235895222, 0.7171019164109809, 0.8071737671513731, 0.8576805742779621, 0.9019920464168005, 0.9445364988386736]\n",
      "==================================================\n",
      " MAX CV AUC SCORE 84.27407635760717\n"
     ]
    }
   ],
   "source": [
    "list_train,list_cv,pred_train,pred_cv,ALPHA,pred_test=SimpleCrossValidation_for_rbf_kernel(x_train=tfidf_sent_vectors_train,\n",
    "x_cv=tfidf_sent_vectors_cv,pred_train_data=tfidf_sent_vectors_train,pred_cv_data=tfidf_sent_vectors_cv,x_test=tfidf_sent_vectors_test)"
   ]
  },
  {
   "cell_type": "code",
   "execution_count": 553,
   "metadata": {},
   "outputs": [
    {
     "name": "stdout",
     "output_type": "stream",
     "text": [
      "AUC VALUE FOR TEST DATA 82.66400655651283\n"
     ]
    }
   ],
   "source": [
    "# AUC VALUE FOR BEST HYPERPARAMETER\n",
    "clf = SVC(C=100,probability=True)\n",
    "clf.fit(tfidf_sent_vectors_train, y_train)\n",
    "pred_test_tf_idf= (clf.predict_proba(tfidf_sent_vectors_test))[:,1]\n",
    "auc_test=roc_auc_score(y_test,pred_test_tf_idf)*100\n",
    "print('AUC VALUE FOR TEST DATA',auc_test)\n",
    "pred_test=clf.predict(tfidf_sent_vectors_test)"
   ]
  },
  {
   "cell_type": "code",
   "execution_count": 554,
   "metadata": {},
   "outputs": [
    {
     "data": {
      "image/png": "[encoded data removed]",
      "text/plain": [
       "<Figure size 432x288 with 1 Axes>"
      ]
     },
     "metadata": {},
     "output_type": "display_data"
    },
    {
     "data": {
      "image/png": "[encoded data removed]",
      "text/plain": [
       "<Figure size 432x288 with 1 Axes>"
      ]
     },
     "metadata": {},
     "output_type": "display_data"
    },
    {
     "data": {
      "image/png": "[encoded data removed]",
      "text/plain": [
       "<Figure size 576x432 with 2 Axes>"
      ]
     },
     "metadata": {},
     "output_type": "display_data"
    }
   ],
   "source": [
    "AUCcurve(y1=list_train,y2=list_cv)\n",
    "ROC_curve(pred_train,pred_test)\n",
    "confusion(pred_test)"
   ]
  },
  {
   "cell_type": "markdown",
   "metadata": {},
   "source": [
    "# [6] Conclusions"
   ]
  },
  {
   "cell_type": "code",
   "execution_count": 555,
   "metadata": {},
   "outputs": [
    {
     "name": "stdout",
     "output_type": "stream",
     "text": [
      "+------------+---------------+----------------+---------+-------+\n",
      "| Vectorizer |     Model     | Hyperparameter | penalty |  AUC  |\n",
      "+------------+---------------+----------------+---------+-------+\n",
      "|    BOW     |  linearKERNEL |      0.01      |    L2   | 86.88 |\n",
      "|   TF-IDF   |  linearKERNEL |     0.0001     |    L2   | 89.15 |\n",
      "|  AVG-W2V   |  linearKERNEL |      0.01      |    L2   | 80.74 |\n",
      "| TF-IDF-W2V |  linearKERNEL |      0.01      |    L2   | 89.14 |\n",
      "|    BOW     |   RBF-KERNAL  |      100       |    L2   |   87  |\n",
      "|   TF-IDF   |   RBF-KERNAL  |       10       |    L2   |   90  |\n",
      "|  AVG-W2V   |   RBF-KERNAL  |      100       |    L2   |   82  |\n",
      "| TF-IDF-W2V |   RBF-KERNAL  |      100       |    L2   |   82  |\n",
      "+------------+---------------+----------------+---------+-------+\n"
     ]
    }
   ],
   "source": [
    "# Please compare all your models using Prettytable library\n",
    "# Please compare all your models using Prettytable library\n",
    "# Please compare all your models using Prettytable library\n",
    "from prettytable import PrettyTable\n",
    "    \n",
    "x = PrettyTable()\n",
    "\n",
    "x.field_names = [\"Vectorizer\",\"Model\" ,\"Hyperparameter\",\"penalty\", \"AUC\"]\n",
    "\n",
    "x.add_row([\"BOW\", \" linearKERNEL\",0.01,\"L2\" ,86.88])\n",
    "x.add_row([\"TF-IDF\",\" linearKERNEL\",.0001 ,\"L2\",89.15])\n",
    "x.add_row([\"AVG-W2V\",\" linearKERNEL\",.01,\"L2\" ,80.74])\n",
    "x.add_row([\"TF-IDF-W2V\",\" linearKERNEL\",.01,\"L2\",89.14])\n",
    "x.add_row([\"BOW\",\" RBF-KERNAL\",100,\"L2\",87])\n",
    "x.add_row([\"TF-IDF\",\" RBF-KERNAL\",10 ,\"L2\",90])\n",
    "x.add_row([\"AVG-W2V\",\" RBF-KERNAL\",100,\"L2\",82])\n",
    "x.add_row([\"TF-IDF-W2V\",\" RBF-KERNAL\",100 ,\"L2\",82])\n",
    "\n",
    "\n",
    "print(x)"
   ]
  },
  {
   "cell_type": "code",
   "execution_count": null,
   "metadata": {},
   "outputs": [],
   "source": []
  }
 ],
 "metadata": {
  "kernelspec": {
   "display_name": "Python 3",
   "language": "python",
   "name": "python3"
  },
  "language_info": {
   "codemirror_mode": {
    "name": "ipython",
    "version": 3
   },
   "file_extension": ".py",
   "mimetype": "text/x-python",
   "name": "python",
   "nbconvert_exporter": "python",
   "pygments_lexer": "ipython3",
   "version": "3.6.5"
  }
 },
 "nbformat": 4,
 "nbformat_minor": 2
}
